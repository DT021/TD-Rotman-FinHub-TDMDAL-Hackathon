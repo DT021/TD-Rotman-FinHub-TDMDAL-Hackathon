{
 "cells": [
  {
   "cell_type": "code",
   "execution_count": 35,
   "metadata": {
    "ExecuteTime": {
     "end_time": "2020-03-01T16:18:54.586683Z",
     "start_time": "2020-03-01T16:18:54.305815Z"
    }
   },
   "outputs": [],
   "source": [
    "import numpy as np\n",
    "import pandas as pd\n",
    "\n",
    "import nltk\n",
    "\n",
    "from data_proc.proc_json import convert_time, load_individual_transcript\n",
    "from data_proc import proc_json\n",
    "\n",
    "from nltk.stem import WordNetLemmatizer\n",
    "\n",
    "from sklearn.ensemble import RandomForestRegressor\n",
    "\n",
    "from os import listdir\n",
    "\n",
    "import matplotlib.pyplot as plt\n",
    "\n",
    "import glob"
   ]
  },
  {
   "cell_type": "code",
   "execution_count": 2,
   "metadata": {
    "ExecuteTime": {
     "end_time": "2020-03-01T16:06:18.584355Z",
     "start_time": "2020-03-01T16:06:18.581112Z"
    }
   },
   "outputs": [],
   "source": [
    "def get_company_name(file_name: str) -> str:\n",
    "    company = file_name.replace(\".json\", \"\")\n",
    "    company = company.replace(\"./test/\", \"\")\n",
    "    return company"
   ]
  },
  {
   "cell_type": "code",
   "execution_count": 3,
   "metadata": {
    "ExecuteTime": {
     "end_time": "2020-03-01T16:06:19.080647Z",
     "start_time": "2020-03-01T16:06:19.074888Z"
    }
   },
   "outputs": [
    {
     "name": "stdout",
     "output_type": "stream",
     "text": [
      "['T', 'PHM', 'TRIP', 'PAYX', 'ITW', 'OKE', 'IFF', 'PPG', 'BEN', 'PKG', 'GE', 'SYF', 'HOLX', 'A', 'COTY', 'EMN', 'BMY', 'TSCO', 'CTAS', 'PSX', 'LMT', 'TXN', 'HST', 'ETN', 'SNI', 'USB', 'APH', 'ROK', 'MAS', 'RF', 'FIS', 'MDT', 'HIG', 'MYL', 'M', 'AME', 'GPN', 'BAC', 'CI', 'AMD', 'L', 'ECL', 'SYK', 'AES', 'MCK', 'MAR', 'ALB', 'HUM', 'PEP', 'CME', 'WU', 'DISH', 'INCY', 'HLT', 'ARNC', 'KMB', 'MS', 'CBOE', 'DIS', 'ALLE', 'GPC', 'XRX', 'CNC', 'FB', 'KR', 'GD', 'CHRW', 'WY', 'COP', 'PG', 'ABT', 'BLK', 'IVZ', 'HOG', 'PCAR', 'URI', 'HSY', 'PXD', 'ILMN', 'FISV', 'SHW', 'MNST', 'VRSN', 'DE', 'MCHP', 'STI', 'NRG', 'DLTR', 'DHR', 'SYY', 'CAT', 'HBI', 'MMC', 'WLTW', 'FLR', 'MET', 'IBM', 'K', 'CINF', 'CTSH', 'MA', 'NWL', 'KMI', 'EXR', 'NAVI', 'AAL', 'ORLY', 'COST', 'SPGI', 'NFLX', 'UAL', 'AMGN', 'TWX', 'RL', 'DXC', 'LNT', 'FBHS', 'ZTS', 'BXP', 'BSX', 'SCG', 'CPB', 'F', 'VIAB', 'VFC', 'VTR', 'MSI', 'HRL', 'LLY', 'MTB', 'CELG', 'CFG', 'PNR', 'MPC', 'MKC', 'AAPL', 'UNH', 'OXY', 'JNJ', 'AVB', 'NEE', 'GWW', 'ADS', 'JPM', 'DVA', 'COO', 'FLS', 'RSG', 'EW', 'FRT', 'PWR', 'SRE', 'SLB', 'PX', 'CCL', 'IT', 'ATVI', 'AIV', 'CHD', 'MON', 'MAA', 'ETFC', 'AMZN', 'MU', 'EFX', 'AON', 'FITB', 'DD', 'OMC', 'KHC', 'TAP', 'ZION', 'CL', 'ACN', 'KSU', 'GIS', 'ADP', 'EXPE', 'GM', 'COL', 'VAR', 'CTL', 'EA', 'SEE', 'KLAC', 'NI', 'PLD', 'LEG', 'NSC', 'LRCX', 'NWSA', 'XYL', 'QRVO', 'FMC', 'DG', 'HCA', 'WYNN', 'MO', 'BIIB', 'EQT', 'NKE', 'DHI', 'DLPH', 'ICE', 'AWK', 'DVN', 'ALK', 'LNC', 'REGN', 'GT', 'FAST', 'SNA', 'FTV', 'GPS', 'ROST', 'ADI', 'VZ', 'CRM', 'TSN', 'IPG', 'AZO', 'BDX', 'PFG', 'AVY', 'EOG', 'AJG', 'QCOM', 'SPG', 'APA', 'LH', 'CVX', 'RHI', 'D', 'ETR', 'CA', 'VLO', 'EMR', 'DGX', 'WMT', 'NBL', 'CHTR', 'MAC', 'WEC', 'RTN', 'CMA', 'GOOG', 'HRB', 'BK', 'BBY', 'AGN', 'ADBE', 'RRC', 'ADSK', 'MLM', 'ANTM', 'FFIV', 'HBAN', 'CF', 'EXC', 'DRI', 'ANSS', 'C', 'EQR', 'STT', 'CSX', 'WRK', 'COF', 'MCD', 'JNPR', 'EIX', 'PNW', 'HPE', 'VRTX', 'UPS', 'NLSN', 'FDX', 'BAX', 'PVH', 'V', 'UNM', 'TDG', 'DRE', 'AMG', 'KSS', 'HSIC', 'CMS', 'PKI', 'CVS', 'AEE', 'ESRX', 'PH', 'EBAY', 'REG', 'VRSK', 'GRMN', 'ESS', 'WDC', 'CMG', 'IP', 'VMC', 'NVDA', 'PBCT', 'RMD', 'AIG', 'ES', 'FL', 'HAS', 'AAP', 'AXP', 'TD', 'JWN', 'DTE', 'KIM', 'GS', 'BA', 'TEL', 'MOS', 'ABC', 'ALL', 'CAH', 'ALXN', 'COG', 'MDLZ', 'NUE', 'MRK', 'SO', 'AOS', 'WFC']\n"
     ]
    }
   ],
   "source": [
    "company_lst = [get_company_name(f) for f in glob.glob(\"./test/*.json\")]\n",
    "print(company_lst)"
   ]
  },
  {
   "cell_type": "markdown",
   "metadata": {},
   "source": [
    "# Essential Datasets"
   ]
  },
  {
   "cell_type": "code",
   "execution_count": 4,
   "metadata": {
    "ExecuteTime": {
     "end_time": "2020-03-01T16:06:21.767141Z",
     "start_time": "2020-03-01T16:06:21.633362Z"
    }
   },
   "outputs": [],
   "source": [
    "COMPANY_PATH = \"./hackathon_data/companies.csv\"\n",
    "JSON_PATH = \"./hackathon_data/company_transcripts/\"\n",
    "LMD_PATH = \"./sentiment_data/LoughranMcDonald_SentimentWordLists_2018.xlsx\"\n",
    "\n",
    "\n",
    "LMD_Dataset = pd.read_excel(\n",
    "    LMD_PATH,\n",
    "    sheet_name=[\n",
    "        \"Negative\", \"Positive\",\n",
    "        \"Uncertainty\", \"Litigious\",\n",
    "        \"StrongModal\", \"Constraining\"],\n",
    "    header=None\n",
    ")\n",
    "\n",
    "LMD_hash = dict()\n",
    "for k, v in LMD_Dataset.items():\n",
    "    LMD_hash[k] = list(map(lambda x: x[0], v.values))\n",
    "\n",
    "\n",
    "TYPES = [\n",
    "    \"Negative\", \"Positive\",\n",
    "    \"Uncertainty\", \"Litigious\",\n",
    "    \"StrongModal\", \"Constraining\"\n",
    "]\n",
    "\n",
    "\n",
    "# 26 words.\n",
    "financial_dataset = pd.read_excel(\n",
    "    # \"/Users/tianyudu/Documents/TD-Rotman-FinHub-TDMDAL-Hackathon/sentiment_data/Finance_Dic.xlsx\"\n",
    "    \"./sentiment_data/Finance_Dic.xlsx\"\n",
    ")\n",
    "\n",
    "POS_LST = list(financial_dataset[\"positive\"].values)\n",
    "NEG_LST = list(financial_dataset[\"negative\"].values)\n",
    "\n",
    "features = ['d_Negative', 'd_Positive', 'd_Uncertainty',\n",
    "       'd_Litigious', 'd_StrongModal', 'd_Constraining', 'd_Pos_26',\n",
    "       'd_Neg_26', 'qa_Negative', 'qa_Positive', 'qa_Uncertainty',\n",
    "       'qa_Litigious', 'qa_StrongModal', 'qa_Constraining', 'qa_Pos_26',\n",
    "       'qa_Neg_26']"
   ]
  },
  {
   "cell_type": "markdown",
   "metadata": {},
   "source": [
    "# Train Models"
   ]
  },
  {
   "cell_type": "code",
   "execution_count": 5,
   "metadata": {
    "ExecuteTime": {
     "end_time": "2020-03-01T16:06:22.762788Z",
     "start_time": "2020-03-01T16:06:22.725275Z"
    }
   },
   "outputs": [],
   "source": [
    "df_train = pd.read_csv(\"./sentiment_data/QA_LMD_data_all_returns.csv\")\n",
    "df_train.dropna(inplace=True)"
   ]
  },
  {
   "cell_type": "code",
   "execution_count": 6,
   "metadata": {
    "ExecuteTime": {
     "end_time": "2020-03-01T16:06:23.529698Z",
     "start_time": "2020-03-01T16:06:23.525169Z"
    }
   },
   "outputs": [],
   "source": [
    "X_train = df_train[features].values\n",
    "y_train = df_train[\"nearest_day_return\"].values.squeeze()"
   ]
  },
  {
   "cell_type": "code",
   "execution_count": 7,
   "metadata": {
    "ExecuteTime": {
     "end_time": "2020-03-01T16:06:23.656191Z",
     "start_time": "2020-03-01T16:06:23.653246Z"
    }
   },
   "outputs": [],
   "source": [
    "config = {'n_estimators': 400, 'min_samples_split': 2, 'min_samples_leaf': 4, 'max_features': 'sqrt', 'max_depth': 10, 'bootstrap': True}\n",
    "model = RandomForestRegressor(**config)"
   ]
  },
  {
   "cell_type": "code",
   "execution_count": 8,
   "metadata": {
    "ExecuteTime": {
     "end_time": "2020-03-01T16:06:28.628983Z",
     "start_time": "2020-03-01T16:06:24.463903Z"
    }
   },
   "outputs": [
    {
     "data": {
      "text/plain": [
       "RandomForestRegressor(bootstrap=True, ccp_alpha=0.0, criterion='mse',\n",
       "                      max_depth=10, max_features='sqrt', max_leaf_nodes=None,\n",
       "                      max_samples=None, min_impurity_decrease=0.0,\n",
       "                      min_impurity_split=None, min_samples_leaf=4,\n",
       "                      min_samples_split=2, min_weight_fraction_leaf=0.0,\n",
       "                      n_estimators=400, n_jobs=None, oob_score=False,\n",
       "                      random_state=None, verbose=0, warm_start=False)"
      ]
     },
     "execution_count": 8,
     "metadata": {},
     "output_type": "execute_result"
    }
   ],
   "source": [
    "model.fit(X_train, y_train)"
   ]
  },
  {
   "cell_type": "markdown",
   "metadata": {},
   "source": [
    "# Load Dataset"
   ]
  },
  {
   "cell_type": "code",
   "execution_count": 9,
   "metadata": {
    "ExecuteTime": {
     "end_time": "2020-03-01T16:06:29.316227Z",
     "start_time": "2020-03-01T16:06:29.312422Z"
    }
   },
   "outputs": [],
   "source": [
    "def qa_check(sentence: str) -> bool:\n",
    "    sentence = sentence.lower()\n",
    "    if len(sentence) > 100:\n",
    "        return False\n",
    "    if \"questions\" in sentence and \"answers\" in sentence:\n",
    "        return True\n",
    "    if \"question\" in sentence and \"answer\" in sentence:\n",
    "        return True\n",
    "    return False"
   ]
  },
  {
   "cell_type": "code",
   "execution_count": 10,
   "metadata": {
    "ExecuteTime": {
     "end_time": "2020-03-01T16:06:30.393813Z",
     "start_time": "2020-03-01T16:06:30.209920Z"
    }
   },
   "outputs": [],
   "source": [
    "ds_dis = dict()\n",
    "ds_qa = dict()\n",
    "\n",
    "places, length = list(), list()\n",
    "failed = 0\n",
    "for company in company_lst:\n",
    "    all_transcript = proc_json.load_individual_transcript(\n",
    "        company=company, path=\"./test/\")\n",
    "    for transcript_id in all_transcript[\"title\"].keys():\n",
    "        unique_id = company + \"_\" + transcript_id\n",
    "\n",
    "        title = all_transcript[\"title\"][transcript_id]\n",
    "        date = all_transcript[\"date\"][transcript_id]\n",
    "        body = all_transcript[\"body\"][transcript_id]\n",
    "        # Total length of body.\n",
    "        length.append(len(body))\n",
    "\n",
    "        qa_begins = None\n",
    "        for p, sentence in enumerate(body):\n",
    "            if qa_check(sentence):\n",
    "                qa_begins = p\n",
    "                break\n",
    "        if qa_begins is None:\n",
    "            # If we cannot find such QA identifier.\n",
    "            # Assume 0.3 Speech + 0.7 QA (aggregate prior).\n",
    "            qa_begins = int(len(body) * 0.3)\n",
    "            failed += 1\n",
    "        places.append(qa_begins)\n",
    "        # Split the dataset\n",
    "        ds_dis.update({str(unique_id): \" \".join(body[:qa_begins])})\n",
    "        ds_qa.update({str(unique_id): \" \".join(body[qa_begins:])})"
   ]
  },
  {
   "cell_type": "markdown",
   "metadata": {},
   "source": [
    "# Parse Dataset"
   ]
  },
  {
   "cell_type": "code",
   "execution_count": 11,
   "metadata": {
    "ExecuteTime": {
     "end_time": "2020-03-01T16:06:31.406009Z",
     "start_time": "2020-03-01T16:06:31.398867Z"
    }
   },
   "outputs": [],
   "source": [
    "def get_score(\n",
    "    body: str,\n",
    "    prefix: str\n",
    ") -> np.ndarray:\n",
    "    \"\"\"\n",
    "    Compute sentiment for each body paragraph.\n",
    "    Returns a dictionary of six values,\n",
    "    counts the number of occurences of each type of words.\n",
    "    \"\"\"\n",
    "    counts = dict((prefix + k, 0) for k in LMD_hash.keys())\n",
    "    counts.update({\n",
    "        prefix + \"Pos_26\": 0,\n",
    "        prefix + \"Neg_26\": 0\n",
    "    })\n",
    "\n",
    "    # Tokenize.\n",
    "    tokens = nltk.word_tokenize(body)\n",
    "    lemmatizer = WordNetLemmatizer()\n",
    "    for word_type in TYPES:\n",
    "        for w in tokens:\n",
    "            w = w.lower()\n",
    "            c = lemmatizer.lemmatize(w)\n",
    "            if c.upper() in LMD_hash[word_type]:\n",
    "                counts[prefix + word_type] += 1\n",
    "            if c.lower() in POS_LST:\n",
    "                counts[prefix + \"Pos_26\"] += 1\n",
    "            if c.lower() in NEG_LST:\n",
    "                counts[prefix + \"Neg_26\"] += 1\n",
    "    return counts"
   ]
  },
  {
   "cell_type": "code",
   "execution_count": 12,
   "metadata": {
    "ExecuteTime": {
     "end_time": "2020-03-01T16:13:57.430069Z",
     "start_time": "2020-03-01T16:06:32.357785Z"
    },
    "scrolled": false
   },
   "outputs": [
    {
     "name": "stdout",
     "output_type": "stream",
     "text": [
      "Number of companies: 328\n",
      "Current Company: T\n",
      "Current Company: PHM\n",
      "Current Company: TRIP\n",
      "Current Company: PAYX\n",
      "Current Company: ITW\n",
      "Current Company: OKE\n",
      "Current Company: IFF\n",
      "Current Company: PPG\n",
      "Current Company: BEN\n",
      "Current Company: PKG\n",
      "Current Company: GE\n",
      "Current Company: SYF\n",
      "Current Company: HOLX\n",
      "Current Company: A\n",
      "Current Company: COTY\n",
      "Current Company: EMN\n",
      "Current Company: BMY\n",
      "Current Company: TSCO\n",
      "Current Company: CTAS\n",
      "Current Company: PSX\n",
      "Current Company: LMT\n",
      "Current Company: TXN\n",
      "Current Company: HST\n",
      "Current Company: ETN\n",
      "Current Company: SNI\n",
      "Current Company: USB\n",
      "Current Company: APH\n",
      "Current Company: ROK\n",
      "Current Company: MAS\n",
      "Current Company: RF\n",
      "Current Company: FIS\n",
      "Current Company: MDT\n",
      "Current Company: HIG\n",
      "Current Company: MYL\n",
      "Current Company: M\n",
      "Current Company: AME\n",
      "Current Company: GPN\n",
      "Current Company: BAC\n",
      "Current Company: CI\n",
      "Current Company: AMD\n",
      "Current Company: L\n",
      "Current Company: ECL\n",
      "Current Company: SYK\n",
      "Current Company: AES\n",
      "Current Company: MCK\n",
      "Current Company: MAR\n",
      "Current Company: ALB\n",
      "Current Company: HUM\n",
      "Current Company: PEP\n",
      "Current Company: CME\n",
      "Current Company: WU\n",
      "Current Company: DISH\n",
      "Current Company: INCY\n",
      "Current Company: HLT\n",
      "Current Company: ARNC\n",
      "Current Company: KMB\n",
      "Current Company: MS\n",
      "Current Company: CBOE\n",
      "Current Company: DIS\n",
      "Current Company: ALLE\n",
      "Current Company: GPC\n",
      "Current Company: XRX\n",
      "Current Company: CNC\n",
      "Current Company: FB\n",
      "Current Company: KR\n",
      "Current Company: GD\n",
      "Current Company: CHRW\n",
      "Current Company: WY\n",
      "Current Company: COP\n",
      "Current Company: PG\n",
      "Current Company: ABT\n",
      "Current Company: BLK\n",
      "Current Company: IVZ\n",
      "Current Company: HOG\n",
      "Current Company: PCAR\n",
      "Current Company: URI\n",
      "Current Company: HSY\n",
      "Current Company: PXD\n",
      "Current Company: ILMN\n",
      "Current Company: FISV\n",
      "Current Company: SHW\n",
      "Current Company: MNST\n",
      "Current Company: VRSN\n",
      "Current Company: DE\n",
      "Current Company: MCHP\n",
      "Current Company: STI\n",
      "Current Company: NRG\n",
      "Current Company: DLTR\n",
      "Current Company: DHR\n",
      "Current Company: SYY\n",
      "Current Company: CAT\n",
      "Current Company: HBI\n",
      "Current Company: MMC\n",
      "Current Company: WLTW\n",
      "Current Company: FLR\n",
      "Current Company: MET\n",
      "Current Company: IBM\n",
      "Current Company: K\n",
      "Current Company: CINF\n",
      "Current Company: CTSH\n",
      "Current Company: MA\n",
      "Current Company: NWL\n",
      "Current Company: KMI\n",
      "Current Company: EXR\n",
      "Current Company: NAVI\n",
      "Current Company: AAL\n",
      "Current Company: ORLY\n",
      "Current Company: COST\n",
      "Current Company: SPGI\n",
      "Current Company: NFLX\n",
      "Current Company: UAL\n",
      "Current Company: AMGN\n",
      "Current Company: TWX\n",
      "Current Company: RL\n",
      "Current Company: DXC\n",
      "Current Company: LNT\n",
      "Current Company: FBHS\n",
      "Current Company: ZTS\n",
      "Current Company: BXP\n",
      "Current Company: BSX\n",
      "Current Company: SCG\n",
      "Current Company: CPB\n",
      "Current Company: F\n",
      "Current Company: VIAB\n",
      "Current Company: VFC\n",
      "Current Company: VTR\n",
      "Current Company: MSI\n",
      "Current Company: HRL\n",
      "Current Company: LLY\n",
      "Current Company: MTB\n",
      "Current Company: CELG\n",
      "Current Company: CFG\n",
      "Current Company: PNR\n",
      "Current Company: MPC\n",
      "Current Company: MKC\n",
      "Current Company: AAPL\n",
      "Current Company: UNH\n",
      "Current Company: OXY\n",
      "Current Company: JNJ\n",
      "Current Company: AVB\n",
      "Current Company: NEE\n",
      "Current Company: GWW\n",
      "Current Company: ADS\n",
      "Current Company: JPM\n",
      "Current Company: DVA\n",
      "Current Company: COO\n",
      "Current Company: FLS\n",
      "Current Company: RSG\n",
      "Current Company: EW\n",
      "Current Company: FRT\n",
      "Current Company: PWR\n",
      "Current Company: SRE\n",
      "Current Company: SLB\n",
      "Current Company: PX\n",
      "Current Company: CCL\n",
      "Current Company: IT\n",
      "Current Company: ATVI\n",
      "Current Company: AIV\n",
      "Current Company: CHD\n",
      "Current Company: MON\n",
      "Current Company: MAA\n",
      "Current Company: ETFC\n",
      "Current Company: AMZN\n",
      "Current Company: MU\n",
      "Current Company: EFX\n",
      "Current Company: AON\n",
      "Current Company: FITB\n",
      "Current Company: DD\n",
      "Current Company: OMC\n",
      "Current Company: KHC\n",
      "Current Company: TAP\n",
      "Current Company: ZION\n",
      "Current Company: CL\n",
      "Current Company: ACN\n",
      "Current Company: KSU\n",
      "Current Company: GIS\n",
      "Current Company: ADP\n",
      "Current Company: EXPE\n",
      "Current Company: GM\n",
      "Current Company: COL\n",
      "Current Company: VAR\n",
      "Current Company: CTL\n",
      "Current Company: EA\n",
      "Current Company: SEE\n",
      "Current Company: KLAC\n",
      "Current Company: NI\n",
      "Current Company: PLD\n",
      "Current Company: LEG\n",
      "Current Company: NSC\n",
      "Current Company: LRCX\n",
      "Current Company: NWSA\n",
      "Current Company: XYL\n",
      "Current Company: QRVO\n",
      "Current Company: FMC\n",
      "Current Company: DG\n",
      "Current Company: HCA\n",
      "Current Company: WYNN\n",
      "Current Company: MO\n",
      "Current Company: BIIB\n",
      "Current Company: EQT\n",
      "Current Company: NKE\n",
      "Current Company: DHI\n",
      "Current Company: DLPH\n",
      "Current Company: ICE\n",
      "Current Company: AWK\n",
      "Current Company: DVN\n",
      "Current Company: ALK\n",
      "Current Company: LNC\n",
      "Current Company: REGN\n",
      "Current Company: GT\n",
      "Current Company: FAST\n",
      "Current Company: SNA\n",
      "Current Company: FTV\n",
      "Current Company: GPS\n",
      "Current Company: ROST\n",
      "Current Company: ADI\n",
      "Current Company: VZ\n",
      "Current Company: CRM\n",
      "Current Company: TSN\n",
      "Current Company: IPG\n",
      "Current Company: AZO\n",
      "Current Company: BDX\n",
      "Current Company: PFG\n",
      "Current Company: AVY\n",
      "Current Company: EOG\n",
      "Current Company: AJG\n",
      "Current Company: QCOM\n",
      "Current Company: SPG\n",
      "Current Company: APA\n",
      "Current Company: LH\n",
      "Current Company: CVX\n",
      "Current Company: RHI\n",
      "Current Company: D\n",
      "Current Company: ETR\n",
      "Current Company: CA\n",
      "Current Company: VLO\n",
      "Current Company: EMR\n",
      "Current Company: DGX\n",
      "Current Company: WMT\n",
      "Current Company: NBL\n",
      "Current Company: CHTR\n",
      "Current Company: MAC\n",
      "Current Company: WEC\n",
      "Current Company: RTN\n",
      "Current Company: CMA\n",
      "Current Company: GOOG\n",
      "Current Company: HRB\n",
      "Current Company: BK\n",
      "Current Company: BBY\n",
      "Current Company: AGN\n",
      "Current Company: ADBE\n",
      "Current Company: RRC\n",
      "Current Company: ADSK\n",
      "Current Company: MLM\n",
      "Current Company: ANTM\n",
      "Current Company: FFIV\n",
      "Current Company: HBAN\n",
      "Current Company: CF\n",
      "Current Company: EXC\n",
      "Current Company: DRI\n",
      "Current Company: ANSS\n",
      "Current Company: C\n",
      "Current Company: EQR\n",
      "Current Company: STT\n",
      "Current Company: CSX\n",
      "Current Company: WRK\n",
      "Current Company: COF\n",
      "Current Company: MCD\n",
      "Current Company: JNPR\n",
      "Current Company: EIX\n",
      "Current Company: PNW\n",
      "Current Company: HPE\n",
      "Current Company: VRTX\n",
      "Current Company: UPS\n",
      "Current Company: NLSN\n",
      "Current Company: FDX\n",
      "Current Company: BAX\n",
      "Current Company: PVH\n",
      "Current Company: V\n",
      "Current Company: UNM\n",
      "Current Company: TDG\n",
      "Current Company: DRE\n",
      "Current Company: AMG\n",
      "Current Company: KSS\n",
      "Current Company: HSIC\n",
      "Current Company: CMS\n",
      "Current Company: PKI\n",
      "Current Company: CVS\n",
      "Current Company: AEE\n",
      "Current Company: ESRX\n",
      "Current Company: PH\n",
      "Current Company: EBAY\n",
      "Current Company: REG\n",
      "Current Company: VRSK\n",
      "Current Company: GRMN\n",
      "Current Company: ESS\n",
      "Current Company: WDC\n",
      "Current Company: CMG\n",
      "Current Company: IP\n",
      "Current Company: VMC\n",
      "Current Company: NVDA\n",
      "Current Company: PBCT\n",
      "Current Company: RMD\n",
      "Current Company: AIG\n",
      "Current Company: ES\n",
      "Current Company: FL\n",
      "Current Company: HAS\n",
      "Current Company: AAP\n",
      "Current Company: AXP\n",
      "Current Company: TD\n",
      "Current Company: JWN\n",
      "Current Company: DTE\n",
      "Current Company: KIM\n",
      "Current Company: GS\n",
      "Current Company: BA\n",
      "Current Company: TEL\n",
      "Current Company: MOS\n",
      "Current Company: ABC\n",
      "Current Company: ALL\n",
      "Current Company: CAH\n",
      "Current Company: ALXN\n",
      "Current Company: COG\n",
      "Current Company: MDLZ\n",
      "Current Company: NUE\n",
      "Current Company: MRK\n",
      "Current Company: SO\n",
      "Current Company: AOS\n",
      "Current Company: WFC\n"
     ]
    }
   ],
   "source": [
    "D_SPLITTED_BDOY = ds_dis\n",
    "Q_SPLITTED_BDOY = ds_qa\n",
    "\n",
    "print(f\"Number of companies: {len(company_lst)}\")\n",
    "df_collection = {\n",
    "    \"ID\": [],\n",
    "    \"Code\": [],\n",
    "    \"Time\": [],\n",
    "    \"d_Negative\": [],\n",
    "    \"d_Positive\": [],\n",
    "    \"d_Uncertainty\": [],\n",
    "    \"d_Litigious\": [],\n",
    "    \"d_StrongModal\": [],\n",
    "    \"d_Constraining\": [],\n",
    "    \"d_Pos_26\": [],\n",
    "    \"d_Neg_26\": [],\n",
    "    \"qa_Negative\": [],\n",
    "    \"qa_Positive\": [],\n",
    "    \"qa_Uncertainty\": [],\n",
    "    \"qa_Litigious\": [],\n",
    "    \"qa_StrongModal\": [],\n",
    "    \"qa_Constraining\": [],\n",
    "    \"qa_Pos_26\": [],\n",
    "    \"qa_Neg_26\": []\n",
    "}\n",
    "\n",
    "for num, company in enumerate(company_lst):\n",
    "    print(f\"Current Company: {company}\")\n",
    "    data = load_individual_transcript(company, path=\"./test/\")\n",
    "    trainscript_ids = list(data[\"title\"].keys())\n",
    "    for i in trainscript_ids:\n",
    "        transcript_code = str(company) + \"_\" + str(i)\n",
    "\n",
    "        t = data[\"date\"][i]\n",
    "        date = convert_time(t)\n",
    "\n",
    "        # Compute scores for each part.\n",
    "        discussion_part = D_SPLITTED_BDOY[transcript_code]\n",
    "        qa_part = Q_SPLITTED_BDOY[transcript_code]\n",
    "\n",
    "        discussion_counts = get_score(discussion_part, prefix=\"d_\")\n",
    "        qa_counts = get_score(qa_part, prefix=\"qa_\")\n",
    "\n",
    "        info = {\n",
    "            \"ID\": i,\n",
    "            \"Code\": transcript_code,\n",
    "            \"Time\": date\n",
    "        }\n",
    "\n",
    "        info.update(discussion_counts)\n",
    "        info.update(qa_counts)\n",
    "\n",
    "        for k, v in info.items():\n",
    "            df_collection[k].append(v)\n",
    "df = pd.DataFrame.from_dict(df_collection)"
   ]
  },
  {
   "cell_type": "code",
   "execution_count": 21,
   "metadata": {
    "ExecuteTime": {
     "end_time": "2020-03-01T16:15:49.267654Z",
     "start_time": "2020-03-01T16:15:49.259492Z"
    }
   },
   "outputs": [
    {
     "data": {
      "text/plain": [
       "654"
      ]
     },
     "execution_count": 21,
     "metadata": {},
     "output_type": "execute_result"
    }
   ],
   "source": [
    "df = pd.DataFrame.from_dict(df_collection)"
   ]
  },
  {
   "cell_type": "code",
   "execution_count": 26,
   "metadata": {
    "ExecuteTime": {
     "end_time": "2020-03-01T16:16:21.642805Z",
     "start_time": "2020-03-01T16:16:21.587171Z"
    }
   },
   "outputs": [],
   "source": [
    "X_test = df[features].values\n",
    "pred = model.predict(X_test)"
   ]
  },
  {
   "cell_type": "code",
   "execution_count": 27,
   "metadata": {
    "ExecuteTime": {
     "end_time": "2020-03-01T16:16:23.676152Z",
     "start_time": "2020-03-01T16:16:23.672614Z"
    }
   },
   "outputs": [],
   "source": [
    "result = pd.DataFrame({\n",
    "    \"id\": df.ID,\n",
    "    \"prediction\": pred\n",
    "})"
   ]
  },
  {
   "cell_type": "code",
   "execution_count": 28,
   "metadata": {
    "ExecuteTime": {
     "end_time": "2020-03-01T16:16:24.691145Z",
     "start_time": "2020-03-01T16:16:24.686303Z"
    }
   },
   "outputs": [
    {
     "data": {
      "text/html": [
       "<div>\n",
       "<style scoped>\n",
       "    .dataframe tbody tr th:only-of-type {\n",
       "        vertical-align: middle;\n",
       "    }\n",
       "\n",
       "    .dataframe tbody tr th {\n",
       "        vertical-align: top;\n",
       "    }\n",
       "\n",
       "    .dataframe thead th {\n",
       "        text-align: right;\n",
       "    }\n",
       "</style>\n",
       "<table border=\"1\" class=\"dataframe\">\n",
       "  <thead>\n",
       "    <tr style=\"text-align: right;\">\n",
       "      <th></th>\n",
       "      <th>id</th>\n",
       "      <th>prediction</th>\n",
       "    </tr>\n",
       "  </thead>\n",
       "  <tbody>\n",
       "    <tr>\n",
       "      <th>0</th>\n",
       "      <td>2369</td>\n",
       "      <td>0.006860</td>\n",
       "    </tr>\n",
       "    <tr>\n",
       "      <th>1</th>\n",
       "      <td>2367</td>\n",
       "      <td>0.002761</td>\n",
       "    </tr>\n",
       "    <tr>\n",
       "      <th>2</th>\n",
       "      <td>18227</td>\n",
       "      <td>0.002095</td>\n",
       "    </tr>\n",
       "    <tr>\n",
       "      <th>3</th>\n",
       "      <td>18414</td>\n",
       "      <td>0.004408</td>\n",
       "    </tr>\n",
       "    <tr>\n",
       "      <th>4</th>\n",
       "      <td>20895</td>\n",
       "      <td>0.010920</td>\n",
       "    </tr>\n",
       "  </tbody>\n",
       "</table>\n",
       "</div>"
      ],
      "text/plain": [
       "      id  prediction\n",
       "0   2369    0.006860\n",
       "1   2367    0.002761\n",
       "2  18227    0.002095\n",
       "3  18414    0.004408\n",
       "4  20895    0.010920"
      ]
     },
     "execution_count": 28,
     "metadata": {},
     "output_type": "execute_result"
    }
   ],
   "source": [
    "result.head()"
   ]
  },
  {
   "cell_type": "code",
   "execution_count": 44,
   "metadata": {
    "ExecuteTime": {
     "end_time": "2020-03-01T16:20:58.586211Z",
     "start_time": "2020-03-01T16:20:58.578306Z"
    }
   },
   "outputs": [],
   "source": [
    "result.to_csv(\"./final_test_result.csv\")\n",
    "original_result = result.copy()"
   ]
  },
  {
   "cell_type": "code",
   "execution_count": 65,
   "metadata": {
    "ExecuteTime": {
     "end_time": "2020-03-01T16:25:05.569647Z",
     "start_time": "2020-03-01T16:25:05.349429Z"
    }
   },
   "outputs": [
    {
     "data": {
      "image/png": "[encoded data removed]",
      "text/plain": [
       "<Figure size 432x288 with 1 Axes>"
      ]
     },
     "metadata": {
      "needs_background": "light"
     },
     "output_type": "display_data"
    }
   ],
   "source": [
    "plt.hist(y_train, bins=40, label=\"Training\", density=True, alpha=0.5)\n",
    "plt.hist(original_result.prediction, bins=40, label=\"Prediction\", density=True, alpha=0.5)\n",
    "plt.legend()\n",
    "plt.show()"
   ]
  },
  {
   "cell_type": "code",
   "execution_count": 51,
   "metadata": {
    "ExecuteTime": {
     "end_time": "2020-03-01T16:22:22.096009Z",
     "start_time": "2020-03-01T16:22:22.090708Z"
    }
   },
   "outputs": [],
   "source": [
    "train_std = float(np.std(y_train))\n",
    "pred_std = float(np.std(result))"
   ]
  },
  {
   "cell_type": "code",
   "execution_count": 52,
   "metadata": {
    "ExecuteTime": {
     "end_time": "2020-03-01T16:22:23.110935Z",
     "start_time": "2020-03-01T16:22:23.108371Z"
    }
   },
   "outputs": [],
   "source": [
    "alpha = train_std / pred_std"
   ]
  },
  {
   "cell_type": "code",
   "execution_count": 53,
   "metadata": {
    "ExecuteTime": {
     "end_time": "2020-03-01T16:22:33.146741Z",
     "start_time": "2020-03-01T16:22:33.143081Z"
    }
   },
   "outputs": [
    {
     "data": {
      "text/plain": [
       "8.061409664838068"
      ]
     },
     "execution_count": 53,
     "metadata": {},
     "output_type": "execute_result"
    }
   ],
   "source": [
    "alpha"
   ]
  },
  {
   "cell_type": "code",
   "execution_count": 54,
   "metadata": {
    "ExecuteTime": {
     "end_time": "2020-03-01T16:22:34.597367Z",
     "start_time": "2020-03-01T16:22:34.373936Z"
    }
   },
   "outputs": [
    {
     "data": {
      "image/png": "[encoded data removed]",
      "text/plain": [
       "<Figure size 432x288 with 1 Axes>"
      ]
     },
     "metadata": {
      "needs_background": "light"
     },
     "output_type": "display_data"
    }
   ],
   "source": [
    "plt.hist(y_train, bins=40, label=\"Training\", density=True, alpha=0.5)\n",
    "plt.hist(result.prediction * alpha , bins=40, label=\"Prediction\", density=True, alpha=0.5)\n",
    "plt.legend()\n",
    "plt.show()"
   ]
  },
  {
   "cell_type": "code",
   "execution_count": 58,
   "metadata": {
    "ExecuteTime": {
     "end_time": "2020-03-01T16:23:30.887922Z",
     "start_time": "2020-03-01T16:23:30.884772Z"
    }
   },
   "outputs": [],
   "source": [
    "modified = original_result.copy()"
   ]
  },
  {
   "cell_type": "code",
   "execution_count": 60,
   "metadata": {
    "ExecuteTime": {
     "end_time": "2020-03-01T16:23:44.637365Z",
     "start_time": "2020-03-01T16:23:44.633579Z"
    }
   },
   "outputs": [],
   "source": [
    "modified.prediction = modified.prediction * alpha"
   ]
  },
  {
   "cell_type": "code",
   "execution_count": 62,
   "metadata": {
    "ExecuteTime": {
     "end_time": "2020-03-01T16:24:01.435188Z",
     "start_time": "2020-03-01T16:24:01.201658Z"
    }
   },
   "outputs": [
    {
     "data": {
      "image/png": "[encoded data removed]",
      "text/plain": [
       "<Figure size 432x288 with 1 Axes>"
      ]
     },
     "metadata": {
      "needs_background": "light"
     },
     "output_type": "display_data"
    }
   ],
   "source": [
    "plt.hist(y_train, bins=40, label=\"Training\", density=True, alpha=0.5)\n",
    "plt.hist(modified.prediction, bins=40, label=\"Prediction\", density=True, alpha=0.5)\n",
    "plt.legend()\n",
    "plt.show()"
   ]
  },
  {
   "cell_type": "code",
   "execution_count": 63,
   "metadata": {
    "ExecuteTime": {
     "end_time": "2020-03-01T16:24:23.235011Z",
     "start_time": "2020-03-01T16:24:23.227837Z"
    }
   },
   "outputs": [],
   "source": [
    "modified.to_csv(\"./modified_prediction.csv\")"
   ]
  },
  {
   "cell_type": "code",
   "execution_count": 64,
   "metadata": {
    "ExecuteTime": {
     "end_time": "2020-03-01T16:24:26.269723Z",
     "start_time": "2020-03-01T16:24:26.261465Z"
    }
   },
   "outputs": [
    {
     "data": {
      "text/html": [
       "<div>\n",
       "<style scoped>\n",
       "    .dataframe tbody tr th:only-of-type {\n",
       "        vertical-align: middle;\n",
       "    }\n",
       "\n",
       "    .dataframe tbody tr th {\n",
       "        vertical-align: top;\n",
       "    }\n",
       "\n",
       "    .dataframe thead th {\n",
       "        text-align: right;\n",
       "    }\n",
       "</style>\n",
       "<table border=\"1\" class=\"dataframe\">\n",
       "  <thead>\n",
       "    <tr style=\"text-align: right;\">\n",
       "      <th></th>\n",
       "      <th>id</th>\n",
       "      <th>prediction</th>\n",
       "    </tr>\n",
       "  </thead>\n",
       "  <tbody>\n",
       "    <tr>\n",
       "      <th>0</th>\n",
       "      <td>2369</td>\n",
       "      <td>0.055304</td>\n",
       "    </tr>\n",
       "    <tr>\n",
       "      <th>1</th>\n",
       "      <td>2367</td>\n",
       "      <td>0.022261</td>\n",
       "    </tr>\n",
       "    <tr>\n",
       "      <th>2</th>\n",
       "      <td>18227</td>\n",
       "      <td>0.016887</td>\n",
       "    </tr>\n",
       "    <tr>\n",
       "      <th>3</th>\n",
       "      <td>18414</td>\n",
       "      <td>0.035535</td>\n",
       "    </tr>\n",
       "    <tr>\n",
       "      <th>4</th>\n",
       "      <td>20895</td>\n",
       "      <td>0.088033</td>\n",
       "    </tr>\n",
       "  </tbody>\n",
       "</table>\n",
       "</div>"
      ],
      "text/plain": [
       "      id  prediction\n",
       "0   2369    0.055304\n",
       "1   2367    0.022261\n",
       "2  18227    0.016887\n",
       "3  18414    0.035535\n",
       "4  20895    0.088033"
      ]
     },
     "execution_count": 64,
     "metadata": {},
     "output_type": "execute_result"
    }
   ],
   "source": [
    "modified.head()"
   ]
  },
  {
   "cell_type": "code",
   "execution_count": null,
   "metadata": {},
   "outputs": [],
   "source": []
  }
 ],
 "metadata": {
  "kernelspec": {
   "display_name": "Python 3.7.4 64-bit ('base': conda)",
   "language": "python",
   "name": "python37464bitbasecondaa4917daf0433479da4b13facfd0dc4e2"
  },
  "language_info": {
   "codemirror_mode": {
    "name": "ipython",
    "version": 3
   },
   "file_extension": ".py",
   "mimetype": "text/x-python",
   "name": "python",
   "nbconvert_exporter": "python",
   "pygments_lexer": "ipython3",
   "version": "3.7.4"
  },
  "latex_envs": {
   "LaTeX_envs_menu_present": true,
   "autoclose": false,
   "autocomplete": true,
   "bibliofile": "biblio.bib",
   "cite_by": "apalike",
   "current_citInitial": 1,
   "eqLabelWithNumbers": true,
   "eqNumInitial": 1,
   "hotkeys": {
    "equation": ""
   },
   "labels_anchors": false,
   "latex_user_defs": false,
   "report_style_numbering": false,
   "user_envs_cfg": false
  },
  "toc": {
   "base_numbering": 1,
   "nav_menu": {},
   "number_sections": true,
   "sideBar": true,
   "skip_h1_title": false,
   "title_cell": "Table of Contents",
   "title_sidebar": "Contents",
   "toc_cell": false,
   "toc_position": {},
   "toc_section_display": true,
   "toc_window_display": false
  },
  "varInspector": {
   "cols": {
    "lenName": 16,
    "lenType": 16,
    "lenVar": 40
   },
   "kernels_config": {
    "python": {
     "delete_cmd_postfix": "",
     "delete_cmd_prefix": "del ",
     "library": "var_list.py",
     "varRefreshCmd": "print(var_dic_list())"
    },
    "r": {
     "delete_cmd_postfix": ") ",
     "delete_cmd_prefix": "rm(",
     "library": "var_list.r",
     "varRefreshCmd": "cat(var_dic_list()) "
    }
   },
   "position": {
    "height": "334.8px",
    "left": "1060.2px",
    "right": "20px",
    "top": "120px",
    "width": "353.4px"
   },
   "types_to_exclude": [
    "module",
    "function",
    "builtin_function_or_method",
    "instance",
    "_Feature"
   ],
   "window_display": true
  }
 },
 "nbformat": 4,
 "nbformat_minor": 4
}
