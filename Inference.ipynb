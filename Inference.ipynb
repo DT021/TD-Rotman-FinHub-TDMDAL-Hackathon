{
 "cells": [
  {
   "cell_type": "code",
   "execution_count": 100,
   "metadata": {
    "ExecuteTime": {
     "end_time": "2020-03-01T06:00:02.030602Z",
     "start_time": "2020-03-01T06:00:02.027009Z"
    }
   },
   "outputs": [],
   "source": [
    "import numpy as np\n",
    "import pandas as pd\n",
    "\n",
    "import nltk\n",
    "\n",
    "from data_proc.proc_json import convert_time, load_individual_transcript\n",
    "from data_proc import proc_json\n",
    "\n",
    "from nltk.stem import WordNetLemmatizer\n",
    "\n",
    "from sklearn.ensemble import RandomForestRegressor\n",
    "\n",
    "from os import listdir\n",
    "\n",
    "import glob"
   ]
  },
  {
   "cell_type": "code",
   "execution_count": 113,
   "metadata": {
    "ExecuteTime": {
     "end_time": "2020-03-01T06:13:35.603809Z",
     "start_time": "2020-03-01T06:13:35.600809Z"
    }
   },
   "outputs": [],
   "source": [
    "def get_company_name(file_name: str) -> str:\n",
    "    company = file_name.replace(\".json\", \"\")\n",
    "    company = company.replace(\"./test/\", \"\")\n",
    "    return company"
   ]
  },
  {
   "cell_type": "code",
   "execution_count": 114,
   "metadata": {
    "ExecuteTime": {
     "end_time": "2020-03-01T06:14:08.922719Z",
     "start_time": "2020-03-01T06:14:08.918787Z"
    }
   },
   "outputs": [
    {
     "name": "stdout",
     "output_type": "stream",
     "text": [
      "['ABBV']\n"
     ]
    }
   ],
   "source": [
    "company_lst = [get_company_name(f) for f in glob.glob(\"./test/*.json\")]\n",
    "print(company_lst)"
   ]
  },
  {
   "cell_type": "markdown",
   "metadata": {},
   "source": [
    "# Essential Datasets"
   ]
  },
  {
   "cell_type": "code",
   "execution_count": 73,
   "metadata": {
    "ExecuteTime": {
     "end_time": "2020-03-01T04:01:59.190926Z",
     "start_time": "2020-03-01T04:01:59.063896Z"
    }
   },
   "outputs": [],
   "source": [
    "COMPANY_PATH = \"./hackathon_data/companies.csv\"\n",
    "JSON_PATH = \"./hackathon_data/company_transcripts/\"\n",
    "LMD_PATH = \"./sentiment_data/LoughranMcDonald_SentimentWordLists_2018.xlsx\"\n",
    "\n",
    "\n",
    "LMD_Dataset = pd.read_excel(\n",
    "    LMD_PATH,\n",
    "    sheet_name=[\n",
    "        \"Negative\", \"Positive\",\n",
    "        \"Uncertainty\", \"Litigious\",\n",
    "        \"StrongModal\", \"Constraining\"],\n",
    "    header=None\n",
    ")\n",
    "\n",
    "LMD_hash = dict()\n",
    "for k, v in LMD_Dataset.items():\n",
    "    LMD_hash[k] = list(map(lambda x: x[0], v.values))\n",
    "\n",
    "\n",
    "TYPES = [\n",
    "    \"Negative\", \"Positive\",\n",
    "    \"Uncertainty\", \"Litigious\",\n",
    "    \"StrongModal\", \"Constraining\"\n",
    "]\n",
    "\n",
    "\n",
    "# 26 words.\n",
    "financial_dataset = pd.read_excel(\n",
    "    # \"/Users/tianyudu/Documents/TD-Rotman-FinHub-TDMDAL-Hackathon/sentiment_data/Finance_Dic.xlsx\"\n",
    "    \"./sentiment_data/Finance_Dic.xlsx\"\n",
    ")\n",
    "\n",
    "POS_LST = list(financial_dataset[\"positive\"].values)\n",
    "NEG_LST = list(financial_dataset[\"negative\"].values)\n",
    "\n",
    "features = ['d_Negative', 'd_Positive', 'd_Uncertainty',\n",
    "       'd_Litigious', 'd_StrongModal', 'd_Constraining', 'd_Pos_26',\n",
    "       'd_Neg_26', 'qa_Negative', 'qa_Positive', 'qa_Uncertainty',\n",
    "       'qa_Litigious', 'qa_StrongModal', 'qa_Constraining', 'qa_Pos_26',\n",
    "       'qa_Neg_26']"
   ]
  },
  {
   "cell_type": "markdown",
   "metadata": {},
   "source": [
    "# Train Models"
   ]
  },
  {
   "cell_type": "code",
   "execution_count": 84,
   "metadata": {
    "ExecuteTime": {
     "end_time": "2020-03-01T04:04:20.260741Z",
     "start_time": "2020-03-01T04:04:20.224598Z"
    }
   },
   "outputs": [],
   "source": [
    "df_train = pd.read_csv(\"./sentiment_data/QA_LMD_data_all_returns.csv\")\n",
    "df_train.dropna(inplace=True)"
   ]
  },
  {
   "cell_type": "code",
   "execution_count": 85,
   "metadata": {
    "ExecuteTime": {
     "end_time": "2020-03-01T04:04:20.820266Z",
     "start_time": "2020-03-01T04:04:20.815526Z"
    }
   },
   "outputs": [],
   "source": [
    "X_train = df_train[features].values\n",
    "y_train = df_train[\"nearest_day_return\"].values.squeeze()"
   ]
  },
  {
   "cell_type": "code",
   "execution_count": 86,
   "metadata": {
    "ExecuteTime": {
     "end_time": "2020-03-01T04:04:21.134402Z",
     "start_time": "2020-03-01T04:04:21.131318Z"
    }
   },
   "outputs": [],
   "source": [
    "config = {'n_estimators': 400, 'min_samples_split': 2, 'min_samples_leaf': 4, 'max_features': 'sqrt', 'max_depth': 10, 'bootstrap': True}\n",
    "model = RandomForestRegressor(**config)"
   ]
  },
  {
   "cell_type": "code",
   "execution_count": 87,
   "metadata": {
    "ExecuteTime": {
     "end_time": "2020-03-01T04:04:25.752884Z",
     "start_time": "2020-03-01T04:04:21.625315Z"
    }
   },
   "outputs": [
    {
     "data": {
      "text/plain": [
       "RandomForestRegressor(bootstrap=True, ccp_alpha=0.0, criterion='mse',\n",
       "                      max_depth=10, max_features='sqrt', max_leaf_nodes=None,\n",
       "                      max_samples=None, min_impurity_decrease=0.0,\n",
       "                      min_impurity_split=None, min_samples_leaf=4,\n",
       "                      min_samples_split=2, min_weight_fraction_leaf=0.0,\n",
       "                      n_estimators=400, n_jobs=None, oob_score=False,\n",
       "                      random_state=None, verbose=0, warm_start=False)"
      ]
     },
     "execution_count": 87,
     "metadata": {},
     "output_type": "execute_result"
    }
   ],
   "source": [
    "model.fit(X_train, y_train)"
   ]
  },
  {
   "cell_type": "markdown",
   "metadata": {},
   "source": [
    "# Load Dataset"
   ]
  },
  {
   "cell_type": "code",
   "execution_count": 57,
   "metadata": {
    "ExecuteTime": {
     "end_time": "2020-03-01T03:55:38.157346Z",
     "start_time": "2020-03-01T03:55:38.153876Z"
    }
   },
   "outputs": [],
   "source": [
    "def qa_check(sentence: str) -> bool:\n",
    "    sentence = sentence.lower()\n",
    "    if len(sentence) > 100:\n",
    "        return False\n",
    "    if \"questions\" in sentence and \"answers\" in sentence:\n",
    "        return True\n",
    "    if \"question\" in sentence and \"answer\" in sentence:\n",
    "        return True\n",
    "    return False"
   ]
  },
  {
   "cell_type": "code",
   "execution_count": 58,
   "metadata": {
    "ExecuteTime": {
     "end_time": "2020-03-01T03:55:38.936163Z",
     "start_time": "2020-03-01T03:55:38.928196Z"
    }
   },
   "outputs": [],
   "source": [
    "ds_dis = dict()\n",
    "ds_qa = dict()\n",
    "\n",
    "places, length = list(), list()\n",
    "failed = 0\n",
    "for company in company_lst:\n",
    "    all_transcript = proc_json.load_individual_transcript(\n",
    "        company=company, path=\"./test/\")\n",
    "    for transcript_id in all_transcript[\"title\"].keys():\n",
    "        unique_id = company + \"_\" + transcript_id\n",
    "\n",
    "        title = all_transcript[\"title\"][transcript_id]\n",
    "        date = all_transcript[\"date\"][transcript_id]\n",
    "        body = all_transcript[\"body\"][transcript_id]\n",
    "        # Total length of body.\n",
    "        length.append(len(body))\n",
    "\n",
    "        qa_begins = None\n",
    "        for p, sentence in enumerate(body):\n",
    "            if qa_check(sentence):\n",
    "                qa_begins = p\n",
    "                break\n",
    "        if qa_begins is None:\n",
    "            # If we cannot find such QA identifier.\n",
    "            # Assume 0.3 Speech + 0.7 QA (aggregate prior).\n",
    "            qa_begins = int(len(body) * 0.3)\n",
    "            failed += 1\n",
    "        places.append(qa_begins)\n",
    "        # Split the dataset\n",
    "        ds_dis.update({str(unique_id): \" \".join(body[:qa_begins])})\n",
    "        ds_qa.update({str(unique_id): \" \".join(body[qa_begins:])})"
   ]
  },
  {
   "cell_type": "markdown",
   "metadata": {},
   "source": [
    "# Parse Dataset"
   ]
  },
  {
   "cell_type": "code",
   "execution_count": 59,
   "metadata": {
    "ExecuteTime": {
     "end_time": "2020-03-01T03:55:40.009614Z",
     "start_time": "2020-03-01T03:55:40.002790Z"
    }
   },
   "outputs": [],
   "source": [
    "def get_score(\n",
    "    body: str,\n",
    "    prefix: str\n",
    ") -> np.ndarray:\n",
    "    \"\"\"\n",
    "    Compute sentiment for each body paragraph.\n",
    "    Returns a dictionary of six values,\n",
    "    counts the number of occurences of each type of words.\n",
    "    \"\"\"\n",
    "    counts = dict((prefix + k, 0) for k in LMD_hash.keys())\n",
    "    counts.update({\n",
    "        prefix + \"Pos_26\": 0,\n",
    "        prefix + \"Neg_26\": 0\n",
    "    })\n",
    "\n",
    "    # Tokenize.\n",
    "    tokens = nltk.word_tokenize(body)\n",
    "    lemmatizer = WordNetLemmatizer()\n",
    "    for word_type in TYPES:\n",
    "        for w in tokens:\n",
    "            w = w.lower()\n",
    "            c = lemmatizer.lemmatize(w)\n",
    "            if c.upper() in LMD_hash[word_type]:\n",
    "                counts[prefix + word_type] += 1\n",
    "            if c.lower() in POS_LST:\n",
    "                counts[prefix + \"Pos_26\"] += 1\n",
    "            if c.lower() in NEG_LST:\n",
    "                counts[prefix + \"Neg_26\"] += 1\n",
    "    return counts"
   ]
  },
  {
   "cell_type": "code",
   "execution_count": 95,
   "metadata": {
    "ExecuteTime": {
     "end_time": "2020-03-01T04:09:40.213879Z",
     "start_time": "2020-03-01T04:09:37.803672Z"
    }
   },
   "outputs": [
    {
     "name": "stdout",
     "output_type": "stream",
     "text": [
      "Number of companies: 1\n",
      "Current Company: ABBV\n"
     ]
    }
   ],
   "source": [
    "D_SPLITTED_BDOY = ds_dis\n",
    "Q_SPLITTED_BDOY = ds_qa\n",
    "\n",
    "print(f\"Number of companies: {len(company_lst)}\")\n",
    "df_collection = {\n",
    "    \"ID\": [],\n",
    "    \"Code\": [],\n",
    "    \"Time\": [],\n",
    "    \"d_Negative\": [],\n",
    "    \"d_Positive\": [],\n",
    "    \"d_Uncertainty\": [],\n",
    "    \"d_Litigious\": [],\n",
    "    \"d_StrongModal\": [],\n",
    "    \"d_Constraining\": [],\n",
    "    \"d_Pos_26\": [],\n",
    "    \"d_Neg_26\": [],\n",
    "    \"qa_Negative\": [],\n",
    "    \"qa_Positive\": [],\n",
    "    \"qa_Uncertainty\": [],\n",
    "    \"qa_Litigious\": [],\n",
    "    \"qa_StrongModal\": [],\n",
    "    \"qa_Constraining\": [],\n",
    "    \"qa_Pos_26\": [],\n",
    "    \"qa_Neg_26\": []\n",
    "}\n",
    "\n",
    "for num, company in enumerate(company_lst):\n",
    "    print(f\"Current Company: {company}\")\n",
    "    data = load_individual_transcript(company, path=\"./test/\")\n",
    "    trainscript_ids = list(data[\"title\"].keys())\n",
    "    for i in trainscript_ids:\n",
    "        transcript_code = str(company) + \"_\" + str(i)\n",
    "\n",
    "        t = data[\"date\"][i]\n",
    "        date = convert_time(t)\n",
    "\n",
    "        # Compute scores for each part.\n",
    "        discussion_part = D_SPLITTED_BDOY[transcript_code]\n",
    "        qa_part = Q_SPLITTED_BDOY[transcript_code]\n",
    "\n",
    "        discussion_counts = get_score(discussion_part, prefix=\"d_\")\n",
    "        qa_counts = get_score(qa_part, prefix=\"qa_\")\n",
    "\n",
    "        info = {\n",
    "            \"ID\": i,\n",
    "            \"Code\": transcript_code,\n",
    "            \"Time\": date\n",
    "        }\n",
    "\n",
    "        info.update(discussion_counts)\n",
    "        info.update(qa_counts)\n",
    "\n",
    "        for k, v in info.items():\n",
    "            df_collection[k].append(v)\n",
    "df = pd.DataFrame.from_dict(df_collection)"
   ]
  },
  {
   "cell_type": "code",
   "execution_count": 96,
   "metadata": {
    "ExecuteTime": {
     "end_time": "2020-03-01T04:09:40.403288Z",
     "start_time": "2020-03-01T04:09:40.378198Z"
    }
   },
   "outputs": [
    {
     "data": {
      "text/html": [
       "<div>\n",
       "<style scoped>\n",
       "    .dataframe tbody tr th:only-of-type {\n",
       "        vertical-align: middle;\n",
       "    }\n",
       "\n",
       "    .dataframe tbody tr th {\n",
       "        vertical-align: top;\n",
       "    }\n",
       "\n",
       "    .dataframe thead th {\n",
       "        text-align: right;\n",
       "    }\n",
       "</style>\n",
       "<table border=\"1\" class=\"dataframe\">\n",
       "  <thead>\n",
       "    <tr style=\"text-align: right;\">\n",
       "      <th></th>\n",
       "      <th>ID</th>\n",
       "      <th>Code</th>\n",
       "      <th>Time</th>\n",
       "      <th>d_Negative</th>\n",
       "      <th>d_Positive</th>\n",
       "      <th>d_Uncertainty</th>\n",
       "      <th>d_Litigious</th>\n",
       "      <th>d_StrongModal</th>\n",
       "      <th>d_Constraining</th>\n",
       "      <th>d_Pos_26</th>\n",
       "      <th>d_Neg_26</th>\n",
       "      <th>qa_Negative</th>\n",
       "      <th>qa_Positive</th>\n",
       "      <th>qa_Uncertainty</th>\n",
       "      <th>qa_Litigious</th>\n",
       "      <th>qa_StrongModal</th>\n",
       "      <th>qa_Constraining</th>\n",
       "      <th>qa_Pos_26</th>\n",
       "      <th>qa_Neg_26</th>\n",
       "    </tr>\n",
       "  </thead>\n",
       "  <tbody>\n",
       "    <tr>\n",
       "      <th>0</th>\n",
       "      <td>500</td>\n",
       "      <td>ABBV_500</td>\n",
       "      <td>2021-10-31 12:30:00.000000</td>\n",
       "      <td>20</td>\n",
       "      <td>55</td>\n",
       "      <td>18</td>\n",
       "      <td>15</td>\n",
       "      <td>8</td>\n",
       "      <td>6</td>\n",
       "      <td>414</td>\n",
       "      <td>36</td>\n",
       "      <td>85</td>\n",
       "      <td>110</td>\n",
       "      <td>62</td>\n",
       "      <td>0</td>\n",
       "      <td>31</td>\n",
       "      <td>8</td>\n",
       "      <td>468</td>\n",
       "      <td>138</td>\n",
       "    </tr>\n",
       "    <tr>\n",
       "      <th>1</th>\n",
       "      <td>509</td>\n",
       "      <td>ABBV_509</td>\n",
       "      <td>2021-10-31 12:30:00.000000</td>\n",
       "      <td>32</td>\n",
       "      <td>92</td>\n",
       "      <td>40</td>\n",
       "      <td>18</td>\n",
       "      <td>18</td>\n",
       "      <td>7</td>\n",
       "      <td>726</td>\n",
       "      <td>24</td>\n",
       "      <td>69</td>\n",
       "      <td>58</td>\n",
       "      <td>76</td>\n",
       "      <td>9</td>\n",
       "      <td>45</td>\n",
       "      <td>12</td>\n",
       "      <td>378</td>\n",
       "      <td>330</td>\n",
       "    </tr>\n",
       "    <tr>\n",
       "      <th>2</th>\n",
       "      <td>679</td>\n",
       "      <td>ABBV_679</td>\n",
       "      <td>2021-10-31 12:30:00.000000</td>\n",
       "      <td>22</td>\n",
       "      <td>121</td>\n",
       "      <td>41</td>\n",
       "      <td>14</td>\n",
       "      <td>18</td>\n",
       "      <td>8</td>\n",
       "      <td>780</td>\n",
       "      <td>36</td>\n",
       "      <td>85</td>\n",
       "      <td>78</td>\n",
       "      <td>58</td>\n",
       "      <td>11</td>\n",
       "      <td>37</td>\n",
       "      <td>5</td>\n",
       "      <td>204</td>\n",
       "      <td>270</td>\n",
       "    </tr>\n",
       "  </tbody>\n",
       "</table>\n",
       "</div>"
      ],
      "text/plain": [
       "    ID      Code  ... qa_Pos_26  qa_Neg_26\n",
       "0  500  ABBV_500  ...       468        138\n",
       "1  509  ABBV_509  ...       378        330\n",
       "2  679  ABBV_679  ...       204        270\n",
       "\n",
       "[3 rows x 19 columns]"
      ]
     },
     "execution_count": 96,
     "metadata": {},
     "output_type": "execute_result"
    }
   ],
   "source": [
    "df.head()"
   ]
  },
  {
   "cell_type": "code",
   "execution_count": 97,
   "metadata": {
    "ExecuteTime": {
     "end_time": "2020-03-01T04:09:42.993459Z",
     "start_time": "2020-03-01T04:09:42.961040Z"
    }
   },
   "outputs": [],
   "source": [
    "X_test = df[features].values\n",
    "pred = model.predict(X_test)"
   ]
  },
  {
   "cell_type": "code",
   "execution_count": 118,
   "metadata": {
    "ExecuteTime": {
     "end_time": "2020-03-01T06:18:25.150197Z",
     "start_time": "2020-03-01T06:18:25.146644Z"
    }
   },
   "outputs": [],
   "source": [
    "result = pd.DataFrame({\n",
    "    \"id\": df.ID,\n",
    "    \"prediction\": pred\n",
    "})"
   ]
  },
  {
   "cell_type": "code",
   "execution_count": 120,
   "metadata": {
    "ExecuteTime": {
     "end_time": "2020-03-01T06:20:00.621441Z",
     "start_time": "2020-03-01T06:20:00.613998Z"
    }
   },
   "outputs": [
    {
     "data": {
      "text/html": [
       "<div>\n",
       "<style scoped>\n",
       "    .dataframe tbody tr th:only-of-type {\n",
       "        vertical-align: middle;\n",
       "    }\n",
       "\n",
       "    .dataframe tbody tr th {\n",
       "        vertical-align: top;\n",
       "    }\n",
       "\n",
       "    .dataframe thead th {\n",
       "        text-align: right;\n",
       "    }\n",
       "</style>\n",
       "<table border=\"1\" class=\"dataframe\">\n",
       "  <thead>\n",
       "    <tr style=\"text-align: right;\">\n",
       "      <th></th>\n",
       "      <th>id</th>\n",
       "      <th>prediction</th>\n",
       "    </tr>\n",
       "  </thead>\n",
       "  <tbody>\n",
       "    <tr>\n",
       "      <th>0</th>\n",
       "      <td>500</td>\n",
       "      <td>0.000069</td>\n",
       "    </tr>\n",
       "    <tr>\n",
       "      <th>1</th>\n",
       "      <td>509</td>\n",
       "      <td>-0.002006</td>\n",
       "    </tr>\n",
       "    <tr>\n",
       "      <th>2</th>\n",
       "      <td>679</td>\n",
       "      <td>0.001975</td>\n",
       "    </tr>\n",
       "  </tbody>\n",
       "</table>\n",
       "</div>"
      ],
      "text/plain": [
       "    id  prediction\n",
       "0  500    0.000069\n",
       "1  509   -0.002006\n",
       "2  679    0.001975"
      ]
     },
     "execution_count": 120,
     "metadata": {},
     "output_type": "execute_result"
    }
   ],
   "source": [
    "result.head()"
   ]
  },
  {
   "cell_type": "code",
   "execution_count": 121,
   "metadata": {
    "ExecuteTime": {
     "end_time": "2020-03-01T06:20:58.219566Z",
     "start_time": "2020-03-01T06:20:58.215002Z"
    }
   },
   "outputs": [],
   "source": [
    "result.to_csv(\"./test_result.csv\")"
   ]
  },
  {
   "cell_type": "code",
   "execution_count": null,
   "metadata": {},
   "outputs": [],
   "source": []
  }
 ],
 "metadata": {
  "kernelspec": {
   "display_name": "Python 3.7.4 64-bit ('base': conda)",
   "language": "python",
   "name": "python37464bitbasecondaa4917daf0433479da4b13facfd0dc4e2"
  },
  "language_info": {
   "codemirror_mode": {
    "name": "ipython",
    "version": 3
   },
   "file_extension": ".py",
   "mimetype": "text/x-python",
   "name": "python",
   "nbconvert_exporter": "python",
   "pygments_lexer": "ipython3",
   "version": "3.7.4"
  },
  "latex_envs": {
   "LaTeX_envs_menu_present": true,
   "autoclose": false,
   "autocomplete": true,
   "bibliofile": "biblio.bib",
   "cite_by": "apalike",
   "current_citInitial": 1,
   "eqLabelWithNumbers": true,
   "eqNumInitial": 1,
   "hotkeys": {
    "equation": ""
   },
   "labels_anchors": false,
   "latex_user_defs": false,
   "report_style_numbering": false,
   "user_envs_cfg": false
  },
  "toc": {
   "base_numbering": 1,
   "nav_menu": {},
   "number_sections": true,
   "sideBar": true,
   "skip_h1_title": false,
   "title_cell": "Table of Contents",
   "title_sidebar": "Contents",
   "toc_cell": false,
   "toc_position": {},
   "toc_section_display": true,
   "toc_window_display": false
  },
  "varInspector": {
   "cols": {
    "lenName": 16,
    "lenType": 16,
    "lenVar": 40
   },
   "kernels_config": {
    "python": {
     "delete_cmd_postfix": "",
     "delete_cmd_prefix": "del ",
     "library": "var_list.py",
     "varRefreshCmd": "print(var_dic_list())"
    },
    "r": {
     "delete_cmd_postfix": ") ",
     "delete_cmd_prefix": "rm(",
     "library": "var_list.r",
     "varRefreshCmd": "cat(var_dic_list()) "
    }
   },
   "position": {
    "height": "334.8px",
    "left": "1060.2px",
    "right": "20px",
    "top": "120px",
    "width": "353.4px"
   },
   "types_to_exclude": [
    "module",
    "function",
    "builtin_function_or_method",
    "instance",
    "_Feature"
   ],
   "window_display": true
  }
 },
 "nbformat": 4,
 "nbformat_minor": 4
}
