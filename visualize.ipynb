{
 "cells": [
  {
   "cell_type": "code",
   "execution_count": 28,
   "metadata": {
    "ExecuteTime": {
     "end_time": "2020-03-01T02:42:50.493225Z",
     "start_time": "2020-03-01T02:42:50.490952Z"
    }
   },
   "outputs": [],
   "source": [
    "import numpy as np\n",
    "import pandas as pd\n",
    "import matplotlib.pyplot as plt\n",
    "import seaborn as sns"
   ]
  },
  {
   "cell_type": "code",
   "execution_count": 2,
   "metadata": {
    "ExecuteTime": {
     "end_time": "2020-03-01T02:43:02.732160Z",
     "start_time": "2020-03-01T02:43:02.700981Z"
    }
   },
   "outputs": [],
   "source": [
    "df = pd.read_csv(\"./sentiment_data/QA_LMD_data_all_returns.csv\")"
   ]
  },
  {
   "cell_type": "code",
   "execution_count": 3,
   "metadata": {},
   "outputs": [
    {
     "data": {
      "text/html": [
       "<div>\n",
       "<style scoped>\n",
       "    .dataframe tbody tr th:only-of-type {\n",
       "        vertical-align: middle;\n",
       "    }\n",
       "\n",
       "    .dataframe tbody tr th {\n",
       "        vertical-align: top;\n",
       "    }\n",
       "\n",
       "    .dataframe thead th {\n",
       "        text-align: right;\n",
       "    }\n",
       "</style>\n",
       "<table border=\"1\" class=\"dataframe\">\n",
       "  <thead>\n",
       "    <tr style=\"text-align: right;\">\n",
       "      <th></th>\n",
       "      <th>Code</th>\n",
       "      <th>Time</th>\n",
       "      <th>d_Negative</th>\n",
       "      <th>d_Positive</th>\n",
       "      <th>d_Uncertainty</th>\n",
       "      <th>d_Litigious</th>\n",
       "      <th>d_StrongModal</th>\n",
       "      <th>d_Constraining</th>\n",
       "      <th>d_Pos_26</th>\n",
       "      <th>d_Neg_26</th>\n",
       "      <th>qa_Negative</th>\n",
       "      <th>qa_Positive</th>\n",
       "      <th>qa_Uncertainty</th>\n",
       "      <th>qa_Litigious</th>\n",
       "      <th>qa_StrongModal</th>\n",
       "      <th>qa_Constraining</th>\n",
       "      <th>qa_Pos_26</th>\n",
       "      <th>qa_Neg_26</th>\n",
       "      <th>nearest_day_return</th>\n",
       "      <th>nearest_day</th>\n",
       "    </tr>\n",
       "  </thead>\n",
       "  <tbody>\n",
       "    <tr>\n",
       "      <td>0</td>\n",
       "      <td>A_127</td>\n",
       "      <td>2012/11/19</td>\n",
       "      <td>15</td>\n",
       "      <td>16</td>\n",
       "      <td>14</td>\n",
       "      <td>0</td>\n",
       "      <td>19</td>\n",
       "      <td>2</td>\n",
       "      <td>342</td>\n",
       "      <td>42</td>\n",
       "      <td>108</td>\n",
       "      <td>90</td>\n",
       "      <td>95</td>\n",
       "      <td>1</td>\n",
       "      <td>27</td>\n",
       "      <td>9</td>\n",
       "      <td>762</td>\n",
       "      <td>414</td>\n",
       "      <td>0.047473</td>\n",
       "      <td>2012-11-19 00:00:00</td>\n",
       "    </tr>\n",
       "    <tr>\n",
       "      <td>1</td>\n",
       "      <td>A_124</td>\n",
       "      <td>2012/2/15</td>\n",
       "      <td>12</td>\n",
       "      <td>17</td>\n",
       "      <td>14</td>\n",
       "      <td>0</td>\n",
       "      <td>17</td>\n",
       "      <td>3</td>\n",
       "      <td>546</td>\n",
       "      <td>42</td>\n",
       "      <td>95</td>\n",
       "      <td>134</td>\n",
       "      <td>79</td>\n",
       "      <td>7</td>\n",
       "      <td>40</td>\n",
       "      <td>7</td>\n",
       "      <td>846</td>\n",
       "      <td>486</td>\n",
       "      <td>-0.003198</td>\n",
       "      <td>2012-02-15 00:00:00</td>\n",
       "    </tr>\n",
       "    <tr>\n",
       "      <td>2</td>\n",
       "      <td>A_758</td>\n",
       "      <td>2014/11/18</td>\n",
       "      <td>9</td>\n",
       "      <td>21</td>\n",
       "      <td>11</td>\n",
       "      <td>1</td>\n",
       "      <td>35</td>\n",
       "      <td>1</td>\n",
       "      <td>552</td>\n",
       "      <td>18</td>\n",
       "      <td>79</td>\n",
       "      <td>105</td>\n",
       "      <td>56</td>\n",
       "      <td>6</td>\n",
       "      <td>49</td>\n",
       "      <td>4</td>\n",
       "      <td>678</td>\n",
       "      <td>342</td>\n",
       "      <td>-0.010669</td>\n",
       "      <td>2014-11-18 00:00:00</td>\n",
       "    </tr>\n",
       "    <tr>\n",
       "      <td>3</td>\n",
       "      <td>A_224</td>\n",
       "      <td>2013/8/14</td>\n",
       "      <td>14</td>\n",
       "      <td>31</td>\n",
       "      <td>11</td>\n",
       "      <td>0</td>\n",
       "      <td>18</td>\n",
       "      <td>6</td>\n",
       "      <td>576</td>\n",
       "      <td>72</td>\n",
       "      <td>96</td>\n",
       "      <td>156</td>\n",
       "      <td>99</td>\n",
       "      <td>3</td>\n",
       "      <td>67</td>\n",
       "      <td>8</td>\n",
       "      <td>780</td>\n",
       "      <td>414</td>\n",
       "      <td>-0.008738</td>\n",
       "      <td>2013-08-14 00:00:00</td>\n",
       "    </tr>\n",
       "    <tr>\n",
       "      <td>4</td>\n",
       "      <td>A_761</td>\n",
       "      <td>2014/2/13</td>\n",
       "      <td>20</td>\n",
       "      <td>41</td>\n",
       "      <td>10</td>\n",
       "      <td>0</td>\n",
       "      <td>24</td>\n",
       "      <td>6</td>\n",
       "      <td>732</td>\n",
       "      <td>42</td>\n",
       "      <td>82</td>\n",
       "      <td>61</td>\n",
       "      <td>81</td>\n",
       "      <td>0</td>\n",
       "      <td>32</td>\n",
       "      <td>1</td>\n",
       "      <td>444</td>\n",
       "      <td>306</td>\n",
       "      <td>0.003173</td>\n",
       "      <td>2014-02-13 00:00:00</td>\n",
       "    </tr>\n",
       "  </tbody>\n",
       "</table>\n",
       "</div>"
      ],
      "text/plain": [
       "    Code        Time  d_Negative  d_Positive  d_Uncertainty  d_Litigious  \\\n",
       "0  A_127  2012/11/19          15          16             14            0   \n",
       "1  A_124   2012/2/15          12          17             14            0   \n",
       "2  A_758  2014/11/18           9          21             11            1   \n",
       "3  A_224   2013/8/14          14          31             11            0   \n",
       "4  A_761   2014/2/13          20          41             10            0   \n",
       "\n",
       "   d_StrongModal  d_Constraining  d_Pos_26  d_Neg_26  qa_Negative  \\\n",
       "0             19               2       342        42          108   \n",
       "1             17               3       546        42           95   \n",
       "2             35               1       552        18           79   \n",
       "3             18               6       576        72           96   \n",
       "4             24               6       732        42           82   \n",
       "\n",
       "   qa_Positive  qa_Uncertainty  qa_Litigious  qa_StrongModal  qa_Constraining  \\\n",
       "0           90              95             1              27                9   \n",
       "1          134              79             7              40                7   \n",
       "2          105              56             6              49                4   \n",
       "3          156              99             3              67                8   \n",
       "4           61              81             0              32                1   \n",
       "\n",
       "   qa_Pos_26  qa_Neg_26  nearest_day_return          nearest_day  \n",
       "0        762        414            0.047473  2012-11-19 00:00:00  \n",
       "1        846        486           -0.003198  2012-02-15 00:00:00  \n",
       "2        678        342           -0.010669  2014-11-18 00:00:00  \n",
       "3        780        414           -0.008738  2013-08-14 00:00:00  \n",
       "4        444        306            0.003173  2014-02-13 00:00:00  "
      ]
     },
     "execution_count": 3,
     "metadata": {},
     "output_type": "execute_result"
    }
   ],
   "source": [
    "df.head()"
   ]
  },
  {
   "cell_type": "code",
   "execution_count": 91,
   "metadata": {},
   "outputs": [],
   "source": [
    "dx = df.iloc[:, 2:10]\n",
    "qax = df.iloc[:, 10:18]"
   ]
  },
  {
   "cell_type": "code",
   "execution_count": 111,
   "metadata": {},
   "outputs": [
    {
     "data": {
      "text/plain": [
       "Text(0, 0.5, 'Total Occurrence')"
      ]
     },
     "execution_count": 111,
     "metadata": {},
     "output_type": "execute_result"
    },
    {
     "data": {
      "image/png": "[encoded data removed]",
      "text/plain": [
       "<Figure size 432x288 with 1 Axes>"
      ]
     },
     "metadata": {
      "needs_background": "light"
     },
     "output_type": "display_data"
    }
   ],
   "source": [
    "# Negative\n",
    "plt.hist(dx.iloc[:, 0], alpha=0.6)\n",
    "plt.hist(qax.iloc[:, 0], alpha=0.6)\n",
    "\n",
    "labels= [\"Discussion\",\"Q and A\"]\n",
    "plt.legend(labels)\n",
    "plt.gca().spines[\"top\"].set_visible(False)  \n",
    "plt.gca().spines[\"right\"].set_visible(False)\n",
    "\n",
    "plt.title(\"Histogram of Negative\")\n",
    "plt.xlabel(\"Occurs in One Transcript\")\n",
    "plt.ylabel(\"Total Occurrence\")"
   ]
  },
  {
   "cell_type": "code",
   "execution_count": 112,
   "metadata": {},
   "outputs": [
    {
     "data": {
      "text/plain": [
       "Text(0, 0.5, 'Total Occurrence')"
      ]
     },
     "execution_count": 112,
     "metadata": {},
     "output_type": "execute_result"
    },
    {
     "data": {
      "image/png": "[encoded data removed]",
      "text/plain": [
       "<Figure size 432x288 with 1 Axes>"
      ]
     },
     "metadata": {
      "needs_background": "light"
     },
     "output_type": "display_data"
    }
   ],
   "source": [
    "# Positive\n",
    "plt.hist(dx.iloc[:, 1], alpha=0.6)\n",
    "plt.hist(qax.iloc[:, 1], alpha=0.6)\n",
    "\n",
    "labels= [\"Discussion\",\"Q and A\"]\n",
    "plt.legend(labels)\n",
    "plt.gca().spines[\"top\"].set_visible(False)  \n",
    "plt.gca().spines[\"right\"].set_visible(False)\n",
    "\n",
    "plt.title(\"Histogram of Positive\")\n",
    "plt.xlabel(\"Occurs in One Transcript\")\n",
    "plt.ylabel(\"Total Occurrence\")"
   ]
  },
  {
   "cell_type": "code",
   "execution_count": 117,
   "metadata": {},
   "outputs": [
    {
     "data": {
      "text/plain": [
       "Text(0, 0.5, 'Total Occurrence')"
      ]
     },
     "execution_count": 117,
     "metadata": {},
     "output_type": "execute_result"
    },
    {
     "data": {
      "image/png": "[encoded data removed]",
      "text/plain": [
       "<Figure size 432x288 with 1 Axes>"
      ]
     },
     "metadata": {
      "needs_background": "light"
     },
     "output_type": "display_data"
    }
   ],
   "source": [
    "# Uncertainty\n",
    "plt.hist(dx.iloc[:, 2], alpha=0.6)\n",
    "plt.hist(qax.iloc[:, 2], alpha=0.6)\n",
    "\n",
    "labels= [\"Discussion\",\"Q and A\"]\n",
    "plt.legend(labels)\n",
    "plt.gca().spines[\"top\"].set_visible(False)  \n",
    "plt.gca().spines[\"right\"].set_visible(False)\n",
    "\n",
    "plt.title(\"Histogram of Uncertainty\")\n",
    "plt.xlabel(\"Occurs in One Transcript\")\n",
    "plt.ylabel(\"Total Occurrence\")"
   ]
  },
  {
   "cell_type": "code",
   "execution_count": 95,
   "metadata": {
    "scrolled": true
   },
   "outputs": [
    {
     "data": {
      "image/png": "[encoded data removed]",
      "text/plain": [
       "<Figure size 432x288 with 1 Axes>"
      ]
     },
     "metadata": {
      "needs_background": "light"
     },
     "output_type": "display_data"
    }
   ],
   "source": [
    "# Litigious\n",
    "plt.hist(dx.iloc[:, 3], alpha=0.6)\n",
    "plt.hist(qax.iloc[:, 3], alpha=0.6)\n",
    "\n",
    "labels= [\"Discussion\",\"Q and A\"]\n",
    "plt.legend(labels)\n",
    "plt.gca().spines[\"top\"].set_visible(False)  \n",
    "plt.gca().spines[\"right\"].set_visible(False)\n",
    "\n",
    "plt.title(\"Histogram of Litigious\")\n",
    "plt.xlabel(\"Occurs in One Transcript\")\n",
    "plt.ylabel(\"Total Occurrence\")"
   ]
  },
  {
   "cell_type": "code",
   "execution_count": 116,
   "metadata": {},
   "outputs": [
    {
     "data": {
      "text/plain": [
       "Text(0, 0.5, 'Total Occurrence')"
      ]
     },
     "execution_count": 116,
     "metadata": {},
     "output_type": "execute_result"
    },
    {
     "data": {
      "image/png": "[encoded data removed]",
      "text/plain": [
       "<Figure size 432x288 with 1 Axes>"
      ]
     },
     "metadata": {
      "needs_background": "light"
     },
     "output_type": "display_data"
    }
   ],
   "source": [
    "# StrongModal\n",
    "plt.hist(dx.iloc[:, 4], alpha=0.6)\n",
    "plt.hist(qax.iloc[:, 4], alpha=0.6)\n",
    "\n",
    "labels= [\"Discussion\",\"Q and A\"]\n",
    "plt.legend(labels)\n",
    "plt.gca().spines[\"top\"].set_visible(False)  \n",
    "plt.gca().spines[\"right\"].set_visible(False)\n",
    "\n",
    "plt.title(\"Histogram of StrongModal\")\n",
    "plt.xlabel(\"Occurs in One Transcript\")\n",
    "plt.ylabel(\"Total Occurrence\")"
   ]
  },
  {
   "cell_type": "code",
   "execution_count": 115,
   "metadata": {},
   "outputs": [
    {
     "data": {
      "text/plain": [
       "Text(0, 0.5, 'Total Occurrence')"
      ]
     },
     "execution_count": 115,
     "metadata": {},
     "output_type": "execute_result"
    },
    {
     "data": {
      "image/png": "[encoded data removed]",
      "text/plain": [
       "<Figure size 432x288 with 1 Axes>"
      ]
     },
     "metadata": {
      "needs_background": "light"
     },
     "output_type": "display_data"
    }
   ],
   "source": [
    "# Constraining\n",
    "plt.hist(dx.iloc[:, 5], alpha=0.6)\n",
    "plt.hist(qax.iloc[:, 5], alpha=0.6)\n",
    "\n",
    "labels= [\"Discussion\",\"Q and A\"]\n",
    "plt.legend(labels)\n",
    "plt.gca().spines[\"top\"].set_visible(False)  \n",
    "plt.gca().spines[\"right\"].set_visible(False)\n",
    "\n",
    "plt.title(\"Histogram of Constraining\")\n",
    "plt.xlabel(\"Occurs in One Transcript\")\n",
    "plt.ylabel(\"Total Occurrence\")"
   ]
  },
  {
   "cell_type": "code",
   "execution_count": 113,
   "metadata": {},
   "outputs": [
    {
     "data": {
      "text/plain": [
       "Text(0, 0.5, 'Total Occurrence')"
      ]
     },
     "execution_count": 113,
     "metadata": {},
     "output_type": "execute_result"
    },
    {
     "data": {
      "image/png": "[encoded data removed]",
      "text/plain": [
       "<Figure size 432x288 with 1 Axes>"
      ]
     },
     "metadata": {
      "needs_background": "light"
     },
     "output_type": "display_data"
    }
   ],
   "source": [
    "# Pos_26\n",
    "plt.hist(dx.iloc[:, 6], alpha=0.6)\n",
    "plt.hist(qax.iloc[:, 6], alpha=0.6)\n",
    "\n",
    "labels= [\"Discussion\",\"Q and A\"]\n",
    "plt.legend(labels)\n",
    "plt.gca().spines[\"top\"].set_visible(False)  \n",
    "plt.gca().spines[\"right\"].set_visible(False)\n",
    "\n",
    "plt.title(\"Histogram of Financial Terminology - Positive\")\n",
    "plt.xlabel(\"Occurs in One Transcript\")\n",
    "plt.ylabel(\"Total Occurrence\")"
   ]
  },
  {
   "cell_type": "code",
   "execution_count": 114,
   "metadata": {},
   "outputs": [
    {
     "data": {
      "text/plain": [
       "Text(0, 0.5, 'Total Occurrence')"
      ]
     },
     "execution_count": 114,
     "metadata": {},
     "output_type": "execute_result"
    },
    {
     "data": {
      "image/png": "[encoded data removed]",
      "text/plain": [
       "<Figure size 432x288 with 1 Axes>"
      ]
     },
     "metadata": {
      "needs_background": "light"
     },
     "output_type": "display_data"
    }
   ],
   "source": [
    "# Neg_26\n",
    "plt.hist(dx.iloc[:, 7], alpha=0.6)\n",
    "plt.hist(qax.iloc[:, 7], alpha=0.6)\n",
    "\n",
    "labels= [\"Discussion\",\"Q and A\"]\n",
    "plt.legend(labels)\n",
    "plt.gca().spines[\"top\"].set_visible(False)  \n",
    "plt.gca().spines[\"right\"].set_visible(False)\n",
    "\n",
    "plt.title(\"Histogram of Financial Terminology - Negative\")\n",
    "plt.xlabel(\"Occurs in One Transcript\")\n",
    "plt.ylabel(\"Total Occurrence\")"
   ]
  },
  {
   "cell_type": "code",
   "execution_count": null,
   "metadata": {},
   "outputs": [],
   "source": []
  },
  {
   "cell_type": "code",
   "execution_count": null,
   "metadata": {},
   "outputs": [],
   "source": []
  },
  {
   "cell_type": "code",
   "execution_count": null,
   "metadata": {},
   "outputs": [],
   "source": []
  }
 ],
 "metadata": {
  "kernelspec": {
   "display_name": "Python 3",
   "language": "python",
   "name": "python3"
  },
  "language_info": {
   "codemirror_mode": {
    "name": "ipython",
    "version": 3
   },
   "file_extension": ".py",
   "mimetype": "text/x-python",
   "name": "python",
   "nbconvert_exporter": "python",
   "pygments_lexer": "ipython3",
   "version": "3.7.4"
  },
  "latex_envs": {
   "LaTeX_envs_menu_present": true,
   "autoclose": false,
   "autocomplete": true,
   "bibliofile": "biblio.bib",
   "cite_by": "apalike",
   "current_citInitial": 1,
   "eqLabelWithNumbers": true,
   "eqNumInitial": 1,
   "hotkeys": {
    "equation": ""
   },
   "labels_anchors": false,
   "latex_user_defs": false,
   "report_style_numbering": false,
   "user_envs_cfg": false
  },
  "toc": {
   "base_numbering": 1,
   "nav_menu": {},
   "number_sections": true,
   "sideBar": true,
   "skip_h1_title": false,
   "title_cell": "Table of Contents",
   "title_sidebar": "Contents",
   "toc_cell": false,
   "toc_position": {},
   "toc_section_display": true,
   "toc_window_display": false
  },
  "varInspector": {
   "cols": {
    "lenName": 16,
    "lenType": 16,
    "lenVar": 40
   },
   "kernels_config": {
    "python": {
     "delete_cmd_postfix": "",
     "delete_cmd_prefix": "del ",
     "library": "var_list.py",
     "varRefreshCmd": "print(var_dic_list())"
    },
    "r": {
     "delete_cmd_postfix": ") ",
     "delete_cmd_prefix": "rm(",
     "library": "var_list.r",
     "varRefreshCmd": "cat(var_dic_list()) "
    }
   },
   "types_to_exclude": [
    "module",
    "function",
    "builtin_function_or_method",
    "instance",
    "_Feature"
   ],
   "window_display": false
  }
 },
 "nbformat": 4,
 "nbformat_minor": 4
}
