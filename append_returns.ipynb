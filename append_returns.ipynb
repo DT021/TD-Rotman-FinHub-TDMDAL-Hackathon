{
 "cells": [
  {
   "cell_type": "code",
   "execution_count": 1,
   "metadata": {
    "ExecuteTime": {
     "end_time": "2020-03-01T02:16:20.138106Z",
     "start_time": "2020-03-01T02:16:19.772088Z"
    }
   },
   "outputs": [],
   "source": [
    "import pandas as pd\n",
    "import numpy as np\n",
    "from matplotlib import pyplot as plt\n",
    "import json\n",
    "import time\n",
    "from datetime import datetime\n",
    "from datetime import timedelta\n",
    "from typing import List\n",
    "\n",
    "from tqdm import tqdm"
   ]
  },
  {
   "cell_type": "code",
   "execution_count": 2,
   "metadata": {
    "ExecuteTime": {
     "end_time": "2020-03-01T02:16:24.906293Z",
     "start_time": "2020-03-01T02:16:24.877374Z"
    }
   },
   "outputs": [],
   "source": [
    "df_all =  pd.read_csv(\n",
    "    \"./sentiment_data/data_qa.csv\",\n",
    "    index_col=0,\n",
    "    dtype={0:'str'}\n",
    ")"
   ]
  },
  {
   "cell_type": "code",
   "execution_count": 3,
   "metadata": {
    "ExecuteTime": {
     "end_time": "2020-03-01T02:16:25.656564Z",
     "start_time": "2020-03-01T02:16:25.654041Z"
    }
   },
   "outputs": [],
   "source": [
    "return_path = \"./hackathon_data/company_prices_returns/\""
   ]
  },
  {
   "cell_type": "code",
   "execution_count": 4,
   "metadata": {
    "ExecuteTime": {
     "end_time": "2020-03-01T02:16:27.381211Z",
     "start_time": "2020-03-01T02:16:27.379066Z"
    }
   },
   "outputs": [],
   "source": [
    "# df_returns = pd.read_csv(\n",
    "#     return_path + company + \"_adj_close.csv\",\n",
    "#     date_parser=lambda x: datetime.strptime(x, \"%Y-%m-%d\"),\n",
    "#     index_col=0\n",
    "# )\n",
    "# # date = datetime.strptime(date, \"%Y/%m/%d\")\n",
    "# for i in range(1000):\n",
    "#     try:\n",
    "#         nearest_return = df_returns.loc[date + timedelta(i)]\n",
    "#         break\n",
    "#     except KeyError:\n",
    "#         pass"
   ]
  },
  {
   "cell_type": "code",
   "execution_count": 5,
   "metadata": {
    "ExecuteTime": {
     "end_time": "2020-03-01T02:16:27.964580Z",
     "start_time": "2020-03-01T02:16:27.959330Z"
    }
   },
   "outputs": [],
   "source": [
    "def load_return(\n",
    "    company: str,\n",
    "    date: str,\n",
    "    tol: int = 1000\n",
    ") -> float:\n",
    "    df_returns = pd.read_csv(\n",
    "        return_path + company + \"_adj_close.csv\",\n",
    "        date_parser=lambda x: datetime.strptime(x, \"%Y-%m-%d\"),\n",
    "        index_col=0\n",
    "    )\n",
    "    date = datetime.strptime(date, \"%Y/%m/%d\")\n",
    "    for i in range(tol):\n",
    "        try:\n",
    "            return df_returns.loc[date + timedelta(i)][\"Returns\"], date + timedelta(i)\n",
    "            break\n",
    "        except KeyError:\n",
    "            pass\n",
    "    return None, None"
   ]
  },
  {
   "cell_type": "code",
   "execution_count": 6,
   "metadata": {
    "ExecuteTime": {
     "end_time": "2020-03-01T02:16:29.080308Z",
     "start_time": "2020-03-01T02:16:29.020097Z"
    }
   },
   "outputs": [
    {
     "data": {
      "text/plain": [
       "(None, None)"
      ]
     },
     "execution_count": 6,
     "metadata": {},
     "output_type": "execute_result"
    }
   ],
   "source": [
    "load_return(\"AAPL\", \"2030/1/1\")"
   ]
  },
  {
   "cell_type": "code",
   "execution_count": 7,
   "metadata": {
    "ExecuteTime": {
     "end_time": "2020-03-01T02:16:30.129549Z",
     "start_time": "2020-03-01T02:16:30.124918Z"
    }
   },
   "outputs": [],
   "source": [
    "df_with_returns = df_all.copy()\n",
    "df_with_returns[\"nearest_day_return\"] = None\n",
    "df_with_returns[\"nearest_day\"] = None"
   ]
  },
  {
   "cell_type": "code",
   "execution_count": 8,
   "metadata": {
    "ExecuteTime": {
     "end_time": "2020-03-01T02:20:09.149172Z",
     "start_time": "2020-03-01T02:16:31.169838Z"
    }
   },
   "outputs": [
    {
     "name": "stderr",
     "output_type": "stream",
     "text": [
      "  0%|          | 0/12379 [00:00<?, ?it/s]/Users/tianyudu/opt/anaconda3/lib/python3.7/site-packages/ipykernel_launcher.py:10: SettingWithCopyWarning: \n",
      "A value is trying to be set on a copy of a slice from a DataFrame\n",
      "\n",
      "See the caveats in the documentation: https://pandas.pydata.org/pandas-docs/stable/user_guide/indexing.html#returning-a-view-versus-a-copy\n",
      "  # Remove the CWD from sys.path while we load stuff.\n",
      "/Users/tianyudu/opt/anaconda3/lib/python3.7/site-packages/ipykernel_launcher.py:11: SettingWithCopyWarning: \n",
      "A value is trying to be set on a copy of a slice from a DataFrame\n",
      "\n",
      "See the caveats in the documentation: https://pandas.pydata.org/pandas-docs/stable/user_guide/indexing.html#returning-a-view-versus-a-copy\n",
      "  # This is added back by InteractiveShellApp.init_path()\n",
      "100%|██████████| 12379/12379 [03:37<00:00, 56.79it/s]\n"
     ]
    }
   ],
   "source": [
    "for report_id in tqdm(df_all.index):\n",
    "#     print(report_id)\n",
    "    index = report_id.index(\"_\")\n",
    "    company = report_id[:index]\n",
    "#     print(f\"Processing company: {company}\")\n",
    "    report_date = df_all.loc[report_id].Time\n",
    "    nearest_day_return, nearest_day = load_return(\n",
    "        company, report_date\n",
    "    )\n",
    "    df_with_returns[\"nearest_day_return\"][report_id] = nearest_day_return\n",
    "    df_with_returns[\"nearest_day\"][report_id] = nearest_day"
   ]
  },
  {
   "cell_type": "code",
   "execution_count": 9,
   "metadata": {
    "ExecuteTime": {
     "end_time": "2020-03-01T02:20:09.267672Z",
     "start_time": "2020-03-01T02:20:09.186115Z"
    }
   },
   "outputs": [],
   "source": [
    "df_with_returns.to_csv(\"./sentiment_data/LMD_data_all_returns.csv\")"
   ]
  },
  {
   "cell_type": "code",
   "execution_count": null,
   "metadata": {},
   "outputs": [],
   "source": []
  }
 ],
 "metadata": {
  "kernelspec": {
   "display_name": "Python 3.7.4 64-bit ('base': conda)",
   "language": "python",
   "name": "python37464bitbasecondaa4917daf0433479da4b13facfd0dc4e2"
  },
  "language_info": {
   "codemirror_mode": {
    "name": "ipython",
    "version": 3
   },
   "file_extension": ".py",
   "mimetype": "text/x-python",
   "name": "python",
   "nbconvert_exporter": "python",
   "pygments_lexer": "ipython3",
   "version": "3.7.4"
  },
  "latex_envs": {
   "LaTeX_envs_menu_present": true,
   "autoclose": false,
   "autocomplete": true,
   "bibliofile": "biblio.bib",
   "cite_by": "apalike",
   "current_citInitial": 1,
   "eqLabelWithNumbers": true,
   "eqNumInitial": 1,
   "hotkeys": {
    "equation": ""
   },
   "labels_anchors": false,
   "latex_user_defs": false,
   "report_style_numbering": false,
   "user_envs_cfg": false
  },
  "toc": {
   "base_numbering": 1,
   "nav_menu": {},
   "number_sections": true,
   "sideBar": true,
   "skip_h1_title": false,
   "title_cell": "Table of Contents",
   "title_sidebar": "Contents",
   "toc_cell": false,
   "toc_position": {},
   "toc_section_display": true,
   "toc_window_display": false
  },
  "varInspector": {
   "cols": {
    "lenName": 16,
    "lenType": 16,
    "lenVar": 40
   },
   "kernels_config": {
    "python": {
     "delete_cmd_postfix": "",
     "delete_cmd_prefix": "del ",
     "library": "var_list.py",
     "varRefreshCmd": "print(var_dic_list())"
    },
    "r": {
     "delete_cmd_postfix": ") ",
     "delete_cmd_prefix": "rm(",
     "library": "var_list.r",
     "varRefreshCmd": "cat(var_dic_list()) "
    }
   },
   "position": {
    "height": "427.4px",
    "left": "1056.2px",
    "right": "20px",
    "top": "120px",
    "width": "357.4px"
   },
   "types_to_exclude": [
    "module",
    "function",
    "builtin_function_or_method",
    "instance",
    "_Feature"
   ],
   "window_display": true
  }
 },
 "nbformat": 4,
 "nbformat_minor": 2
}
