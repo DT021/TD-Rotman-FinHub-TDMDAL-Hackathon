{
 "cells": [
  {
   "cell_type": "code",
   "execution_count": 1,
   "metadata": {
    "ExecuteTime": {
     "end_time": "2020-02-29T22:32:04.365942Z",
     "start_time": "2020-02-29T22:32:04.212818Z"
    }
   },
   "outputs": [],
   "source": [
    "import numpy as np\n",
    "import pandas as pd\n",
    "\n",
    "from data_proc import proc_json"
   ]
  },
  {
   "cell_type": "code",
   "execution_count": 2,
   "metadata": {
    "ExecuteTime": {
     "end_time": "2020-02-29T22:32:05.202059Z",
     "start_time": "2020-02-29T22:32:05.178711Z"
    }
   },
   "outputs": [],
   "source": [
    "df = pd.read_csv(\n",
    "    \"./sentiment_data/LMD_data_all_returns.csv\"\n",
    ")\n",
    "\n",
    "df_compnay = pd.read_csv(\n",
    "    \"./hackathon_data/companies.csv\"\n",
    ")"
   ]
  },
  {
   "cell_type": "code",
   "execution_count": 3,
   "metadata": {
    "ExecuteTime": {
     "end_time": "2020-02-29T22:32:05.663905Z",
     "start_time": "2020-02-29T22:32:05.646520Z"
    }
   },
   "outputs": [
    {
     "data": {
      "text/html": [
       "<div>\n",
       "<style scoped>\n",
       "    .dataframe tbody tr th:only-of-type {\n",
       "        vertical-align: middle;\n",
       "    }\n",
       "\n",
       "    .dataframe tbody tr th {\n",
       "        vertical-align: top;\n",
       "    }\n",
       "\n",
       "    .dataframe thead th {\n",
       "        text-align: right;\n",
       "    }\n",
       "</style>\n",
       "<table border=\"1\" class=\"dataframe\">\n",
       "  <thead>\n",
       "    <tr style=\"text-align: right;\">\n",
       "      <th></th>\n",
       "      <th>Ticker symbol</th>\n",
       "      <th>Security</th>\n",
       "      <th>SEC filings</th>\n",
       "      <th>GICS Sector</th>\n",
       "      <th>GICS Sub Industry</th>\n",
       "      <th>Address of Headquarters</th>\n",
       "      <th>Date first added</th>\n",
       "      <th>CIK</th>\n",
       "    </tr>\n",
       "  </thead>\n",
       "  <tbody>\n",
       "    <tr>\n",
       "      <th>0</th>\n",
       "      <td>A</td>\n",
       "      <td>Agilent Technologies Inc</td>\n",
       "      <td>reports</td>\n",
       "      <td>Health Care</td>\n",
       "      <td>Health Care Equipment</td>\n",
       "      <td>Santa Clara, California</td>\n",
       "      <td>6/5/2000</td>\n",
       "      <td>1090872</td>\n",
       "    </tr>\n",
       "    <tr>\n",
       "      <th>1</th>\n",
       "      <td>AAL</td>\n",
       "      <td>American Airlines Group</td>\n",
       "      <td>reports</td>\n",
       "      <td>Industrials</td>\n",
       "      <td>Airlines</td>\n",
       "      <td>Fort Worth, Texas</td>\n",
       "      <td>3/23/2015</td>\n",
       "      <td>6201</td>\n",
       "    </tr>\n",
       "    <tr>\n",
       "      <th>2</th>\n",
       "      <td>AAP</td>\n",
       "      <td>Advance Auto Parts</td>\n",
       "      <td>reports</td>\n",
       "      <td>Consumer Discretionary</td>\n",
       "      <td>Automotive Retail</td>\n",
       "      <td>Roanoke, Virginia</td>\n",
       "      <td>7/9/2015</td>\n",
       "      <td>1158449</td>\n",
       "    </tr>\n",
       "    <tr>\n",
       "      <th>3</th>\n",
       "      <td>AAPL</td>\n",
       "      <td>Apple Inc.</td>\n",
       "      <td>reports</td>\n",
       "      <td>Information Technology</td>\n",
       "      <td>Technology Hardware, Storage &amp; Peripherals</td>\n",
       "      <td>Cupertino, California</td>\n",
       "      <td>11/30/1982</td>\n",
       "      <td>320193</td>\n",
       "    </tr>\n",
       "    <tr>\n",
       "      <th>4</th>\n",
       "      <td>ABBV</td>\n",
       "      <td>AbbVie Inc.</td>\n",
       "      <td>reports</td>\n",
       "      <td>Health Care</td>\n",
       "      <td>Pharmaceuticals</td>\n",
       "      <td>North Chicago, Illinois</td>\n",
       "      <td>12/31/2012</td>\n",
       "      <td>1551152</td>\n",
       "    </tr>\n",
       "  </tbody>\n",
       "</table>\n",
       "</div>"
      ],
      "text/plain": [
       "  Ticker symbol                  Security SEC filings             GICS Sector  \\\n",
       "0             A  Agilent Technologies Inc     reports             Health Care   \n",
       "1           AAL   American Airlines Group     reports             Industrials   \n",
       "2           AAP        Advance Auto Parts     reports  Consumer Discretionary   \n",
       "3          AAPL                Apple Inc.     reports  Information Technology   \n",
       "4          ABBV               AbbVie Inc.     reports             Health Care   \n",
       "\n",
       "                            GICS Sub Industry  Address of Headquarters  \\\n",
       "0                       Health Care Equipment  Santa Clara, California   \n",
       "1                                    Airlines        Fort Worth, Texas   \n",
       "2                           Automotive Retail        Roanoke, Virginia   \n",
       "3  Technology Hardware, Storage & Peripherals    Cupertino, California   \n",
       "4                             Pharmaceuticals  North Chicago, Illinois   \n",
       "\n",
       "  Date first added      CIK  \n",
       "0         6/5/2000  1090872  \n",
       "1        3/23/2015     6201  \n",
       "2         7/9/2015  1158449  \n",
       "3       11/30/1982   320193  \n",
       "4       12/31/2012  1551152  "
      ]
     },
     "execution_count": 3,
     "metadata": {},
     "output_type": "execute_result"
    }
   ],
   "source": [
    "df_compnay.head()"
   ]
  },
  {
   "cell_type": "code",
   "execution_count": 4,
   "metadata": {
    "ExecuteTime": {
     "end_time": "2020-02-29T22:32:06.118155Z",
     "start_time": "2020-02-29T22:32:06.109167Z"
    }
   },
   "outputs": [],
   "source": [
    "df = proc_json.load_individual_transcript(company=\"AAPL\", path=\"./hackathon_data/company_transcripts/\")\n",
    "title = df[\"title\"][\"3022\"]\n",
    "date = df[\"date\"][\"3022\"]\n",
    "body = df[\"body\"][\"3022\"]"
   ]
  },
  {
   "cell_type": "code",
   "execution_count": 5,
   "metadata": {
    "ExecuteTime": {
     "end_time": "2020-02-29T22:32:07.268795Z",
     "start_time": "2020-02-29T22:32:07.265329Z"
    }
   },
   "outputs": [
    {
     "data": {
      "text/plain": [
       "dict_values(['Apple (AAPL) Timothy Donald Cook on Q2 2016 Results - Earnings Call Transcript', 'Apple, Inc. (AAPL) CEO Tim Cook on Q2 2019 Results - Earnings Call Transcript', 'Apple (AAPL) Q1 2017 Results - Earnings Call Transcript', 'Apple Inc. (AAPL) CEO Tim Cook on Q4 2019 Results - Earnings Call Transcript', \"Apple's CEO Discusses F1Q 2014 Results - Earnings Call Transcript\", \"Apple's (AAPL) CEO Tim Cook On Q3 2014 Results - Earnings Call Transcript\", \"Apple's CEO Discusses F1Q 2013 Results - Earnings Call Transcript\", 'Apple (AAPL) Q3 2017 Results - Earnings Call Transcript', \"Apple's (AAPL) CEO Tim Cook On Q4 2014 Results - Earnings Call Transcript\", 'Apple (AAPL) Q2 2018 Results - Earnings Call Transcript', \"Apple's CEO Discusses F2Q13 Results - Earnings Call Transcript\", \"Apple's CEO Discusses Q2 2012 Results - Earnings Call Transcript\", \"Apple's CEO Discusses F3Q12 Results - Earnings Call Transcript\", \"Apple's CEO Discusses Q1 2012 Results - Earnings Call Transcript\", \"Apple's CEO Discusses F2Q 2014 Results - Earnings Call Transcript\", 'Apple (AAPL) Timothy D. Cook on Q3 2015 Results - Earnings Call Transcript', \"Apple's CEO Discusses F4Q12 Results - Earnings Call Transcript\", \"Apple's (AAPL) CEO Tim Cook On Q1 2016 Results - Earnings Call Transcript\", \"Apple's (AAPL) CEO Tim Cook on Q1 2015 Results - Earnings Call Transcript\", 'Apple (AAPL) Q4 2018 Results - Earnings Call Transcript', 'Apple (AAPL) Q4 2017 Results - Earnings Call Transcript', \"Apple's (AAPL) CEO Tim Cook on Q4 2015 Results - Earnings Call Transcript\", 'Apple (AAPL) Q3 2016 Results - Earnings Call Transcript', 'Apple (AAPL) Q3 2018 Results - Earnings Call Transcript', 'Apple (AAPL) Q4 2016 Results - Earnings Call Transcript', \"Apple's (AAPL) CEO Tim Cook On Q1 2018 Results - Earnings Call Transcript\", \"Apple's CEO Discusses F4Q 2013 Results - Earnings Call Transcript\", 'Apple (AAPL) Q2 2017 Results - Earnings Call Transcript', 'Apple Inc. (AAPL) CEO Tim Cook on Q1 2020 Results - Earnings Call Transcript'])"
      ]
     },
     "execution_count": 5,
     "metadata": {},
     "output_type": "execute_result"
    }
   ],
   "source": [
    "df[\"title\"].values()"
   ]
  },
  {
   "cell_type": "code",
   "execution_count": 7,
   "metadata": {
    "ExecuteTime": {
     "end_time": "2020-02-29T22:32:23.744250Z",
     "start_time": "2020-02-29T22:32:23.740440Z"
    }
   },
   "outputs": [],
   "source": [
    "company_lst = df_compnay[\"Ticker symbol\"].values\n",
    "\n",
    "def qa_check(sentence: str) -> bool:\n",
    "    sentence = sentence.lower()\n",
    "    if len(sentence) > 100:\n",
    "        return False\n",
    "    if \"questions\" in sentence and \"answers\" in sentence:\n",
    "        return True\n",
    "    if \"question\" in sentence and \"answer\" in sentence:\n",
    "        return True\n",
    "    return False"
   ]
  },
  {
   "cell_type": "code",
   "execution_count": 17,
   "metadata": {
    "ExecuteTime": {
     "end_time": "2020-02-29T22:35:25.900134Z",
     "start_time": "2020-02-29T22:35:22.997718Z"
    },
    "scrolled": false
   },
   "outputs": [],
   "source": [
    "ds_dis = dict()\n",
    "ds_qa = dict()\n",
    "\n",
    "places, length = list(), list()\n",
    "failed = 0\n",
    "for company in company_lst:\n",
    "    all_transcript = proc_json.load_individual_transcript(company=company, path=\"./hackathon_data/company_transcripts/\")\n",
    "    for transcript_id in all_transcript[\"title\"].keys():\n",
    "        unique_id = company + \"_\" + transcript_id\n",
    "\n",
    "        title = all_transcript[\"title\"][transcript_id]\n",
    "        date = all_transcript[\"date\"][transcript_id]\n",
    "        body = all_transcript[\"body\"][transcript_id]\n",
    "        # Total length of body.\n",
    "        length.append(len(body))\n",
    "\n",
    "        qa_begins = None\n",
    "        for p, sentence in enumerate(body):\n",
    "            if qa_check(sentence):\n",
    "                qa_begins = p\n",
    "                break\n",
    "        if qa_begins is None:\n",
    "            # If we cannot find such QA identifier.\n",
    "            # Assume 0.3 Speech + 0.7 QA (aggregate prior).\n",
    "            qa_begins = int(len(body) * 0.3)\n",
    "            failed += 1\n",
    "        places.append(qa_begins)\n",
    "        # Split the dataset\n",
    "        ds_dis.update({str(unique_id): \" \".join(body[:qa_begins])})\n",
    "        ds_qa.update({str(unique_id): \" \".join(body[qa_begins:])})"
   ]
  },
  {
   "cell_type": "code",
   "execution_count": 19,
   "metadata": {
    "ExecuteTime": {
     "end_time": "2020-02-29T22:35:48.590371Z",
     "start_time": "2020-02-29T22:35:48.587155Z"
    }
   },
   "outputs": [
    {
     "data": {
      "text/plain": [
       "12379"
      ]
     },
     "execution_count": 19,
     "metadata": {},
     "output_type": "execute_result"
    }
   ],
   "source": [
    "len(ds_dis)"
   ]
  },
  {
   "cell_type": "code",
   "execution_count": 139,
   "metadata": {
    "ExecuteTime": {
     "end_time": "2020-02-29T22:10:31.800171Z",
     "start_time": "2020-02-29T22:10:31.794887Z"
    }
   },
   "outputs": [
    {
     "name": "stdout",
     "output_type": "stream",
     "text": [
      "0.3051365477581242\n"
     ]
    }
   ],
   "source": [
    "print(np.mean(np.array(places) / np.array(length)))"
   ]
  },
  {
   "cell_type": "code",
   "execution_count": 140,
   "metadata": {
    "ExecuteTime": {
     "end_time": "2020-02-29T22:10:34.284360Z",
     "start_time": "2020-02-29T22:10:34.281743Z"
    }
   },
   "outputs": [
    {
     "name": "stdout",
     "output_type": "stream",
     "text": [
      "46\n"
     ]
    }
   ],
   "source": [
    "print(failed)"
   ]
  }
 ],
 "metadata": {
  "kernelspec": {
   "display_name": "Python 3.7.4 64-bit ('base': conda)",
   "language": "python",
   "name": "python37464bitbasecondaa4917daf0433479da4b13facfd0dc4e2"
  },
  "language_info": {
   "codemirror_mode": {
    "name": "ipython",
    "version": 3
   },
   "file_extension": ".py",
   "mimetype": "text/x-python",
   "name": "python",
   "nbconvert_exporter": "python",
   "pygments_lexer": "ipython3",
   "version": "3.7.4"
  },
  "latex_envs": {
   "LaTeX_envs_menu_present": true,
   "autoclose": false,
   "autocomplete": true,
   "bibliofile": "biblio.bib",
   "cite_by": "apalike",
   "current_citInitial": 1,
   "eqLabelWithNumbers": true,
   "eqNumInitial": 1,
   "hotkeys": {
    "equation": ""
   },
   "labels_anchors": false,
   "latex_user_defs": false,
   "report_style_numbering": false,
   "user_envs_cfg": false
  },
  "toc": {
   "base_numbering": 1,
   "nav_menu": {},
   "number_sections": true,
   "sideBar": true,
   "skip_h1_title": false,
   "title_cell": "Table of Contents",
   "title_sidebar": "Contents",
   "toc_cell": false,
   "toc_position": {},
   "toc_section_display": true,
   "toc_window_display": false
  },
  "varInspector": {
   "cols": {
    "lenName": 16,
    "lenType": 16,
    "lenVar": 40
   },
   "kernels_config": {
    "python": {
     "delete_cmd_postfix": "",
     "delete_cmd_prefix": "del ",
     "library": "var_list.py",
     "varRefreshCmd": "print(var_dic_list())"
    },
    "r": {
     "delete_cmd_postfix": ") ",
     "delete_cmd_prefix": "rm(",
     "library": "var_list.r",
     "varRefreshCmd": "cat(var_dic_list()) "
    }
   },
   "types_to_exclude": [
    "module",
    "function",
    "builtin_function_or_method",
    "instance",
    "_Feature"
   ],
   "window_display": false
  }
 },
 "nbformat": 4,
 "nbformat_minor": 4
}
